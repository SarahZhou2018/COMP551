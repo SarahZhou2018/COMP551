{
  "nbformat": 4,
  "nbformat_minor": 0,
  "metadata": {
    "colab": {
      "name": "MiniProject2.ipynb",
      "provenance": [],
      "collapsed_sections": [
        "DCNeSmaKTXEr"
      ],
      "toc_visible": true,
      "machine_shape": "hm"
    },
    "kernelspec": {
      "name": "python3",
      "display_name": "Python 3"
    }
  },
  "cells": [
    {
      "cell_type": "markdown",
      "metadata": {
        "id": "rxm3iIE2VQhZ"
      },
      "source": [
        "# COMP 551 Mini Project 2"
      ]
    },
    {
      "cell_type": "markdown",
      "metadata": {
        "id": "BzW1F4IrVJ1V"
      },
      "source": [
        "## Task 1: Acquire and preprocess the data\n",
        "\n",
        "Acronyms used for the datasets in this notebook\n",
        "- 20 news groups (20N)\n",
        "- IMDB reviews (IMDB)\n",
        "\n",
        "\n",
        "\n"
      ]
    },
    {
      "cell_type": "code",
      "metadata": {
        "id": "C3SJQbmQNGnP",
        "colab": {
          "base_uri": "https://localhost:8080/"
        },
        "outputId": "53a7a72d-9e39-4e47-e23c-76fc75a09b5c"
      },
      "source": [
        "import pandas as pd\n",
        "import numpy as np\n",
        "import seaborn as sns\n",
        "import matplotlib.pyplot as plt\n",
        "from numpy.random import permutation\n",
        "from IPython.core.debugger import set_trace  \n",
        "from sklearn.datasets import fetch_20newsgroups\n",
        "from sklearn.linear_model import LogisticRegression\n",
        "import os\n",
        "!pip install mglearn\n",
        "import mglearn\n",
        "\n",
        "# Set the seed for reproducibility (initializes the random number generator)\n",
        "np.random.seed(500)"
      ],
      "execution_count": 4,
      "outputs": [
        {
          "output_type": "stream",
          "text": [
            "Collecting mglearn\n",
            "\u001b[?25l  Downloading https://files.pythonhosted.org/packages/65/38/8aced26fce0b2ae82c3c87cd3b6105f38ca6d9d51704ecc44aa54473e6b9/mglearn-0.1.9.tar.gz (540kB)\n",
            "\r\u001b[K     |▋                               | 10kB 14.4MB/s eta 0:00:01\r\u001b[K     |█▏                              | 20kB 19.7MB/s eta 0:00:01\r\u001b[K     |█▉                              | 30kB 16.5MB/s eta 0:00:01\r\u001b[K     |██▍                             | 40kB 16.0MB/s eta 0:00:01\r\u001b[K     |███                             | 51kB 16.3MB/s eta 0:00:01\r\u001b[K     |███▋                            | 61kB 14.5MB/s eta 0:00:01\r\u001b[K     |████▎                           | 71kB 11.9MB/s eta 0:00:01\r\u001b[K     |████▉                           | 81kB 12.2MB/s eta 0:00:01\r\u001b[K     |█████▌                          | 92kB 11.1MB/s eta 0:00:01\r\u001b[K     |██████                          | 102kB 11.6MB/s eta 0:00:01\r\u001b[K     |██████▊                         | 112kB 11.6MB/s eta 0:00:01\r\u001b[K     |███████▎                        | 122kB 11.6MB/s eta 0:00:01\r\u001b[K     |███████▉                        | 133kB 11.6MB/s eta 0:00:01\r\u001b[K     |████████▌                       | 143kB 11.6MB/s eta 0:00:01\r\u001b[K     |█████████                       | 153kB 11.6MB/s eta 0:00:01\r\u001b[K     |█████████▊                      | 163kB 11.6MB/s eta 0:00:01\r\u001b[K     |██████████▎                     | 174kB 11.6MB/s eta 0:00:01\r\u001b[K     |███████████                     | 184kB 11.6MB/s eta 0:00:01\r\u001b[K     |███████████▌                    | 194kB 11.6MB/s eta 0:00:01\r\u001b[K     |████████████▏                   | 204kB 11.6MB/s eta 0:00:01\r\u001b[K     |████████████▊                   | 215kB 11.6MB/s eta 0:00:01\r\u001b[K     |█████████████▍                  | 225kB 11.6MB/s eta 0:00:01\r\u001b[K     |██████████████                  | 235kB 11.6MB/s eta 0:00:01\r\u001b[K     |██████████████▋                 | 245kB 11.6MB/s eta 0:00:01\r\u001b[K     |███████████████▏                | 256kB 11.6MB/s eta 0:00:01\r\u001b[K     |███████████████▊                | 266kB 11.6MB/s eta 0:00:01\r\u001b[K     |████████████████▍               | 276kB 11.6MB/s eta 0:00:01\r\u001b[K     |█████████████████               | 286kB 11.6MB/s eta 0:00:01\r\u001b[K     |█████████████████▋              | 296kB 11.6MB/s eta 0:00:01\r\u001b[K     |██████████████████▏             | 307kB 11.6MB/s eta 0:00:01\r\u001b[K     |██████████████████▉             | 317kB 11.6MB/s eta 0:00:01\r\u001b[K     |███████████████████▍            | 327kB 11.6MB/s eta 0:00:01\r\u001b[K     |████████████████████            | 337kB 11.6MB/s eta 0:00:01\r\u001b[K     |████████████████████▋           | 348kB 11.6MB/s eta 0:00:01\r\u001b[K     |█████████████████████▎          | 358kB 11.6MB/s eta 0:00:01\r\u001b[K     |█████████████████████▉          | 368kB 11.6MB/s eta 0:00:01\r\u001b[K     |██████████████████████▌         | 378kB 11.6MB/s eta 0:00:01\r\u001b[K     |███████████████████████         | 389kB 11.6MB/s eta 0:00:01\r\u001b[K     |███████████████████████▋        | 399kB 11.6MB/s eta 0:00:01\r\u001b[K     |████████████████████████▎       | 409kB 11.6MB/s eta 0:00:01\r\u001b[K     |████████████████████████▉       | 419kB 11.6MB/s eta 0:00:01\r\u001b[K     |█████████████████████████▌      | 430kB 11.6MB/s eta 0:00:01\r\u001b[K     |██████████████████████████      | 440kB 11.6MB/s eta 0:00:01\r\u001b[K     |██████████████████████████▊     | 450kB 11.6MB/s eta 0:00:01\r\u001b[K     |███████████████████████████▎    | 460kB 11.6MB/s eta 0:00:01\r\u001b[K     |████████████████████████████    | 471kB 11.6MB/s eta 0:00:01\r\u001b[K     |████████████████████████████▌   | 481kB 11.6MB/s eta 0:00:01\r\u001b[K     |█████████████████████████████▏  | 491kB 11.6MB/s eta 0:00:01\r\u001b[K     |█████████████████████████████▊  | 501kB 11.6MB/s eta 0:00:01\r\u001b[K     |██████████████████████████████▍ | 512kB 11.6MB/s eta 0:00:01\r\u001b[K     |███████████████████████████████ | 522kB 11.6MB/s eta 0:00:01\r\u001b[K     |███████████████████████████████▌| 532kB 11.6MB/s eta 0:00:01\r\u001b[K     |████████████████████████████████| 542kB 11.6MB/s \n",
            "\u001b[?25hRequirement already satisfied: numpy in /usr/local/lib/python3.7/dist-packages (from mglearn) (1.19.5)\n",
            "Requirement already satisfied: matplotlib in /usr/local/lib/python3.7/dist-packages (from mglearn) (3.2.2)\n",
            "Requirement already satisfied: scikit-learn in /usr/local/lib/python3.7/dist-packages (from mglearn) (0.22.2.post1)\n",
            "Requirement already satisfied: pandas in /usr/local/lib/python3.7/dist-packages (from mglearn) (1.1.5)\n",
            "Requirement already satisfied: pillow in /usr/local/lib/python3.7/dist-packages (from mglearn) (7.0.0)\n",
            "Requirement already satisfied: cycler in /usr/local/lib/python3.7/dist-packages (from mglearn) (0.10.0)\n",
            "Requirement already satisfied: imageio in /usr/local/lib/python3.7/dist-packages (from mglearn) (2.4.1)\n",
            "Requirement already satisfied: joblib in /usr/local/lib/python3.7/dist-packages (from mglearn) (1.0.1)\n",
            "Requirement already satisfied: python-dateutil>=2.1 in /usr/local/lib/python3.7/dist-packages (from matplotlib->mglearn) (2.8.1)\n",
            "Requirement already satisfied: pyparsing!=2.0.4,!=2.1.2,!=2.1.6,>=2.0.1 in /usr/local/lib/python3.7/dist-packages (from matplotlib->mglearn) (2.4.7)\n",
            "Requirement already satisfied: kiwisolver>=1.0.1 in /usr/local/lib/python3.7/dist-packages (from matplotlib->mglearn) (1.3.1)\n",
            "Requirement already satisfied: scipy>=0.17.0 in /usr/local/lib/python3.7/dist-packages (from scikit-learn->mglearn) (1.4.1)\n",
            "Requirement already satisfied: pytz>=2017.2 in /usr/local/lib/python3.7/dist-packages (from pandas->mglearn) (2018.9)\n",
            "Requirement already satisfied: six in /usr/local/lib/python3.7/dist-packages (from cycler->mglearn) (1.15.0)\n",
            "Building wheels for collected packages: mglearn\n",
            "  Building wheel for mglearn (setup.py) ... \u001b[?25l\u001b[?25hdone\n",
            "  Created wheel for mglearn: filename=mglearn-0.1.9-py2.py3-none-any.whl size=582638 sha256=953b5a8102a8708a041bcbc922b105e6c3232922ca17c77f273624178fb36159\n",
            "  Stored in directory: /root/.cache/pip/wheels/eb/a6/ea/a6a3716233fa62fc561259b5cb1e28f79e9ff3592c0adac5f0\n",
            "Successfully built mglearn\n",
            "Installing collected packages: mglearn\n",
            "Successfully installed mglearn-0.1.9\n"
          ],
          "name": "stdout"
        }
      ]
    },
    {
      "cell_type": "markdown",
      "metadata": {
        "id": "qFyQevFRvMLq"
      },
      "source": [
        "### 1.1 Import text data\n"
      ]
    },
    {
      "cell_type": "markdown",
      "metadata": {
        "id": "QzM4GeMVp1Ai"
      },
      "source": [
        "#### 20NewsGroups"
      ]
    },
    {
      "cell_type": "code",
      "metadata": {
        "id": "Cch8vPvbMk3M",
        "colab": {
          "base_uri": "https://localhost:8080/"
        },
        "outputId": "ce086194-d1b1-4e09-9e23-72da5ad4ed44"
      },
      "source": [
        "# 20N\n",
        "# Code Examples:\n",
        "# https://www.programcreek.com/python/example/104689/sklearn.datasets.fetch_20newsgroups\n",
        "\n",
        "# sklearn.datasets.fetch_20newsgroups(*, data_home=None, subset='train', categories=None, shuffle=True, \n",
        "                                              # random_state=42, remove=(), download_if_missing=True, return_X_y=False)\n",
        "categories = None\n",
        "\n",
        "twenty_train = fetch_20newsgroups(subset='train',\n",
        "    categories=categories, shuffle=True, random_state=42, remove=('headers', 'footers', 'quotes'))\n",
        "twenty_test = fetch_20newsgroups(subset='test',\n",
        "    categories=categories, shuffle=True, random_state=42, remove=('headers', 'footers', 'quotes'))\n",
        "\n",
        "# 20 categories in the dataset\n",
        "category = twenty_train['target_names']\n",
        "\n",
        "twenty_train = [(' '.join(d.split()), t) for d, t in zip(twenty_train['data'], twenty_train['target'])]\n",
        "twenty_test = [(' '.join(d.split()), t) for d, t in zip(twenty_test['data'], twenty_test['target'])]"
      ],
      "execution_count": 5,
      "outputs": [
        {
          "output_type": "stream",
          "text": [
            "Downloading 20news dataset. This may take a few minutes.\n",
            "Downloading dataset from https://ndownloader.figshare.com/files/5975967 (14 MB)\n"
          ],
          "name": "stderr"
        }
      ]
    },
    {
      "cell_type": "code",
      "metadata": {
        "id": "F9E2FYxTyBuy",
        "colab": {
          "base_uri": "https://localhost:8080/",
          "height": 445
        },
        "outputId": "157f4f66-9fb7-4024-db45-ec0adcebe9be"
      },
      "source": [
        "print(twenty_train[:5])\n",
        "print(twenty_test[:5])\n",
        "\n",
        "# Converting lists of tuples into pandas Dataframe. \n",
        "news_tr = pd.DataFrame(twenty_train, columns = ['text', 'label']) \n",
        "news_te = pd.DataFrame(twenty_test, columns = ['text', 'label']) \n",
        "display(news_tr.head())\n",
        "display(news_te.head())"
      ],
      "execution_count": 6,
      "outputs": [
        {
          "output_type": "stream",
          "text": [
            "[('I was wondering if anyone out there could enlighten me on this car I saw the other day. It was a 2-door sports car, looked to be from the late 60s/ early 70s. It was called a Bricklin. The doors were really small. In addition, the front bumper was separate from the rest of the body. This is all I know. If anyone can tellme a model name, engine specs, years of production, where this car is made, history, or whatever info you have on this funky looking car, please e-mail.', 7), (\"A fair number of brave souls who upgraded their SI clock oscillator have shared their experiences for this poll. Please send a brief message detailing your experiences with the procedure. Top speed attained, CPU rated speed, add on cards and adapters, heat sinks, hour of usage per day, floppy disk functionality with 800 and 1.4 m floppies are especially requested. I will be summarizing in the next two days, so please add to the network knowledge base if you have done the clock upgrade and haven't answered this poll. Thanks.\", 4), ('well folks, my mac plus finally gave up the ghost this weekend after starting life as a 512k way back in 1985. sooo, i\\'m in the market for a new machine a bit sooner than i intended to be... i\\'m looking into picking up a powerbook 160 or maybe 180 and have a bunch of questions that (hopefully) somebody can answer: * does anybody know any dirt on when the next round of powerbook introductions are expected? i\\'d heard the 185c was supposed to make an appearence \"this summer\" but haven\\'t heard anymore on it - and since i don\\'t have access to macleak, i was wondering if anybody out there had more info... * has anybody heard rumors about price drops to the powerbook line like the ones the duo\\'s just went through recently? * what\\'s the impression of the display on the 180? i could probably swing a 180 if i got the 80Mb disk rather than the 120, but i don\\'t really have a feel for how much \"better\" the display is (yea, it looks great in the store, but is that all \"wow\" or is it really that good?). could i solicit some opinions of people who use the 160 and 180 day-to-day on if its worth taking the disk size and money hit to get the active display? (i realize this is a real subjective question, but i\\'ve only played around with the machines in a computer store breifly and figured the opinions of somebody who actually uses the machine daily might prove helpful). * how well does hellcats perform? ;) thanks a bunch in advance for any info - if you could email, i\\'ll post a summary (news reading time is at a premium with finals just around the corner... :( ) -- Tom Willis \\\\ twillis@ecn.purdue.edu \\\\ Purdue Electrical Engineering', 4), (\"Do you have Weitek's address/phone number? I'd like to get some information about this chip.\", 1), (\"From article <C5owCB.n3p@world.std.com>, by tombaker@world.std.com (Tom A Baker): My understanding is that the 'expected errors' are basically known bugs in the warning system software - things are checked that don't have the right values in yet because they aren't set till after launch, and suchlike. Rather than fix the code and possibly introduce new bugs, they just tell the crew 'ok, if you see a warning no. 213 before liftoff, ignore it'.\", 14)]\n",
            "[('I am a little confused on all of the models of the 88-89 bonnevilles. I have heard of the LE SE LSE SSE SSEI. Could someone tell me the differences are far as features or performance. I am also curious to know what the book value is for prefereably the 89 model. And how much less than book value can you usually get them for. In other words how much are they in demand this time of year. I have heard that the mid-spring early summer is the best time to buy.', 7), ('I\\'m not familiar at all with the format of these \"X-Face:\" thingies, but after seeing them in some folks\\' headers, I\\'ve *got* to *see* them (and maybe make one of my own)! I\\'ve got \"dpg-view\" on my Linux box (which displays \"uncompressed X-Faces\") and I\\'ve managed to compile [un]compface too... but now that I\\'m *looking* for them, I can\\'t seem to find any X-Face:\\'s in anyones news headers! :-( Could you, would you, please send me your \"X-Face:\" header? I *know* I\\'ll probably get a little swamped, but I can handle it. ...I hope.', 5), ('In a word, yes.', 0), (\"They were attacking the Iraqis to drive them out of Kuwait, a country whose citizens have close blood and business ties to Saudi citizens. And me thinks if the US had not helped out the Iraqis would have swallowed Saudi Arabia, too (or at least the eastern oilfields). And no Muslim country was doing much of anything to help liberate Kuwait and protect Saudi Arabia; indeed, in some masses of citizens were demonstrating in favor of that butcher Saddam (who killed lotsa Muslims), just because he was killing, raping, and looting relatively rich Muslims and also thumbing his nose at the West. So how would have *you* defended Saudi Arabia and rolled back the Iraqi invasion, were you in charge of Saudi Arabia??? I think that it is a very good idea to not have governments have an official religion (de facto or de jure), because with human nature like it is, the ambitious and not the pious will always be the ones who rise to power. There are just too many people in this world (or any country) for the citizens to really know if a leader is really devout or if he is just a slick operator. You make it sound like these guys are angels, Ilyess. (In your clarinet posting you edited out some stuff; was it the following???) Friday's New York Times reported that this group definitely is more conservative than even Sheikh Baz and his followers (who think that the House of Saud does not rule the country conservatively enough). The NYT reported that, besides complaining that the government was not conservative enough, they have: - asserted that the (approx. 500,000) Shiites in the Kingdom are apostates, a charge that under Saudi (and Islamic) law brings the death penalty. Diplomatic guy (Sheikh bin Jibrin), isn't he Ilyess? - called for severe punishment of the 40 or so women who drove in public a while back to protest the ban on women driving. The guy from the group who said this, Abdelhamoud al-Toweijri, said that these women should be fired from their jobs, jailed, and branded as prostitutes. Is this what you want to see happen, Ilyess? I've heard many Muslims say that the ban on women driving has no basis in the Qur'an, the ahadith, etc. Yet these folks not only like the ban, they want these women falsely called prostitutes? If I were you, I'd choose my heroes wisely, Ilyess, not just reflexively rally behind anyone who hates anyone you hate. - say that women should not be allowed to work. - say that TV and radio are too immoral in the Kingdom. Now, the House of Saud is neither my least nor my most favorite government on earth; I think they restrict religious and political reedom a lot, among other things. I just think that the most likely replacements for them are going to be a lot worse for the citizens of the country. But I think the House of Saud is feeling the heat lately. In the last six months or so I've read there have been stepped up harassing by the muttawain (religious police---*not* government) of Western women not fully veiled (something stupid for women to do, IMO, because it sends the wrong signals about your morality). And I've read that they've cracked down on the few, home-based expartiate religious gatherings, and even posted rewards in (government-owned) newspapers offering money for anyone who turns in a group of expartiates who dare worship in their homes or any other secret place. So the government has grown even more intolerant to try to take some of the wind out of the sails of the more-conservative opposition. As unislamic as some of these things are, they're just a small taste of what would happen if these guys overthrow the House of Saud, like they're trying to in the long run. Is this really what you (and Rached and others in the general west-is-evil-zionists-rule-hate-west-or-you-are-a-puppet crowd) want, Ilyess?\", 17), (\"I've just spent two solid months arguing that no such thing as an objective moral system exists.\", 19)]\n"
          ],
          "name": "stdout"
        },
        {
          "output_type": "display_data",
          "data": {
            "text/html": [
              "<div>\n",
              "<style scoped>\n",
              "    .dataframe tbody tr th:only-of-type {\n",
              "        vertical-align: middle;\n",
              "    }\n",
              "\n",
              "    .dataframe tbody tr th {\n",
              "        vertical-align: top;\n",
              "    }\n",
              "\n",
              "    .dataframe thead th {\n",
              "        text-align: right;\n",
              "    }\n",
              "</style>\n",
              "<table border=\"1\" class=\"dataframe\">\n",
              "  <thead>\n",
              "    <tr style=\"text-align: right;\">\n",
              "      <th></th>\n",
              "      <th>text</th>\n",
              "      <th>label</th>\n",
              "    </tr>\n",
              "  </thead>\n",
              "  <tbody>\n",
              "    <tr>\n",
              "      <th>0</th>\n",
              "      <td>I was wondering if anyone out there could enli...</td>\n",
              "      <td>7</td>\n",
              "    </tr>\n",
              "    <tr>\n",
              "      <th>1</th>\n",
              "      <td>A fair number of brave souls who upgraded thei...</td>\n",
              "      <td>4</td>\n",
              "    </tr>\n",
              "    <tr>\n",
              "      <th>2</th>\n",
              "      <td>well folks, my mac plus finally gave up the gh...</td>\n",
              "      <td>4</td>\n",
              "    </tr>\n",
              "    <tr>\n",
              "      <th>3</th>\n",
              "      <td>Do you have Weitek's address/phone number? I'd...</td>\n",
              "      <td>1</td>\n",
              "    </tr>\n",
              "    <tr>\n",
              "      <th>4</th>\n",
              "      <td>From article &lt;C5owCB.n3p@world.std.com&gt;, by to...</td>\n",
              "      <td>14</td>\n",
              "    </tr>\n",
              "  </tbody>\n",
              "</table>\n",
              "</div>"
            ],
            "text/plain": [
              "                                                text  label\n",
              "0  I was wondering if anyone out there could enli...      7\n",
              "1  A fair number of brave souls who upgraded thei...      4\n",
              "2  well folks, my mac plus finally gave up the gh...      4\n",
              "3  Do you have Weitek's address/phone number? I'd...      1\n",
              "4  From article <C5owCB.n3p@world.std.com>, by to...     14"
            ]
          },
          "metadata": {
            "tags": []
          }
        },
        {
          "output_type": "display_data",
          "data": {
            "text/html": [
              "<div>\n",
              "<style scoped>\n",
              "    .dataframe tbody tr th:only-of-type {\n",
              "        vertical-align: middle;\n",
              "    }\n",
              "\n",
              "    .dataframe tbody tr th {\n",
              "        vertical-align: top;\n",
              "    }\n",
              "\n",
              "    .dataframe thead th {\n",
              "        text-align: right;\n",
              "    }\n",
              "</style>\n",
              "<table border=\"1\" class=\"dataframe\">\n",
              "  <thead>\n",
              "    <tr style=\"text-align: right;\">\n",
              "      <th></th>\n",
              "      <th>text</th>\n",
              "      <th>label</th>\n",
              "    </tr>\n",
              "  </thead>\n",
              "  <tbody>\n",
              "    <tr>\n",
              "      <th>0</th>\n",
              "      <td>I am a little confused on all of the models of...</td>\n",
              "      <td>7</td>\n",
              "    </tr>\n",
              "    <tr>\n",
              "      <th>1</th>\n",
              "      <td>I'm not familiar at all with the format of the...</td>\n",
              "      <td>5</td>\n",
              "    </tr>\n",
              "    <tr>\n",
              "      <th>2</th>\n",
              "      <td>In a word, yes.</td>\n",
              "      <td>0</td>\n",
              "    </tr>\n",
              "    <tr>\n",
              "      <th>3</th>\n",
              "      <td>They were attacking the Iraqis to drive them o...</td>\n",
              "      <td>17</td>\n",
              "    </tr>\n",
              "    <tr>\n",
              "      <th>4</th>\n",
              "      <td>I've just spent two solid months arguing that ...</td>\n",
              "      <td>19</td>\n",
              "    </tr>\n",
              "  </tbody>\n",
              "</table>\n",
              "</div>"
            ],
            "text/plain": [
              "                                                text  label\n",
              "0  I am a little confused on all of the models of...      7\n",
              "1  I'm not familiar at all with the format of the...      5\n",
              "2                                    In a word, yes.      0\n",
              "3  They were attacking the Iraqis to drive them o...     17\n",
              "4  I've just spent two solid months arguing that ...     19"
            ]
          },
          "metadata": {
            "tags": []
          }
        }
      ]
    },
    {
      "cell_type": "markdown",
      "metadata": {
        "id": "FdDrAC8vp8--"
      },
      "source": [
        "#### IMDB"
      ]
    },
    {
      "cell_type": "code",
      "metadata": {
        "id": "NkF9RWxmCQsO",
        "colab": {
          "base_uri": "https://localhost:8080/"
        },
        "outputId": "a363dc04-37f5-4ff1-c364-cd5c21e64611"
      },
      "source": [
        "# IMDB, attach the dataset to folder tree\n",
        "# Comment the following two lines if files already present in Colab folder tree \n",
        "!wget http://ai.stanford.edu/~amaas/data/sentiment/aclImdb_v1.tar.gz\n",
        "!tar --gunzip --extract --file=aclImdb_v1.tar.gz"
      ],
      "execution_count": 7,
      "outputs": [
        {
          "output_type": "stream",
          "text": [
            "--2021-03-01 00:40:58--  http://ai.stanford.edu/~amaas/data/sentiment/aclImdb_v1.tar.gz\n",
            "Resolving ai.stanford.edu (ai.stanford.edu)... 171.64.68.10\n",
            "Connecting to ai.stanford.edu (ai.stanford.edu)|171.64.68.10|:80... connected.\n",
            "HTTP request sent, awaiting response... 200 OK\n",
            "Length: 84125825 (80M) [application/x-gzip]\n",
            "Saving to: ‘aclImdb_v1.tar.gz’\n",
            "\n",
            "aclImdb_v1.tar.gz   100%[===================>]  80.23M  17.3MB/s    in 11s     \n",
            "\n",
            "2021-03-01 00:41:09 (7.39 MB/s) - ‘aclImdb_v1.tar.gz’ saved [84125825/84125825]\n",
            "\n"
          ],
          "name": "stdout"
        }
      ]
    },
    {
      "cell_type": "code",
      "metadata": {
        "id": "P_sZUA_g_oMw"
      },
      "source": [
        "# IMDB reviews dataset\n",
        "X_train_movies, y_train_movies, X_test_movies, y_test_movies = [], [], [], []\n",
        "\n",
        "# read raw text from directories\n",
        "for pos_ex in os.listdir('aclImdb/train/pos'):\n",
        "    with open(os.path.join('aclImdb/train/pos', pos_ex)) as f:\n",
        "        X_train_movies += f.readlines()\n",
        "        y_train_movies += [1]\n",
        "\n",
        "for neg_ex in os.listdir('aclImdb/train/neg'):\n",
        "    with open(os.path.join('aclImdb/train/neg', neg_ex)) as f:\n",
        "        X_train_movies += f.readlines()\n",
        "        y_train_movies += [0]\n",
        "\n",
        "for pos_ex in os.listdir('aclImdb/test/pos'):\n",
        "    with open(os.path.join('aclImdb/test/pos', pos_ex)) as f:\n",
        "        X_test_movies += f.readlines()\n",
        "        y_test_movies += [1]\n",
        "\n",
        "for neg_ex in os.listdir('aclImdb/test/neg'):\n",
        "    with open(os.path.join('aclImdb/test/neg', neg_ex)) as f:\n",
        "        X_test_movies += f.readlines()\n",
        "        y_test_movies += [0]"
      ],
      "execution_count": 8,
      "outputs": []
    },
    {
      "cell_type": "code",
      "metadata": {
        "id": "aKYDl1Mk-zfc",
        "colab": {
          "base_uri": "https://localhost:8080/",
          "height": 391
        },
        "outputId": "68de38a2-f57f-4d79-91a1-323b3cbbed4b"
      },
      "source": [
        "# Converting lists into pandas Dataframe. \n",
        "movies_tr = pd.DataFrame({'text' : X_train_movies,\n",
        "                             'label' : y_train_movies })\n",
        "movies_te = pd.DataFrame({'text' : X_test_movies,\n",
        "                            'label' : y_test_movies })\n",
        "\n",
        "# preview the first 5 lines\n",
        "display(movies_tr.head())\n",
        "display(movies_te.head())"
      ],
      "execution_count": 9,
      "outputs": [
        {
          "output_type": "display_data",
          "data": {
            "text/html": [
              "<div>\n",
              "<style scoped>\n",
              "    .dataframe tbody tr th:only-of-type {\n",
              "        vertical-align: middle;\n",
              "    }\n",
              "\n",
              "    .dataframe tbody tr th {\n",
              "        vertical-align: top;\n",
              "    }\n",
              "\n",
              "    .dataframe thead th {\n",
              "        text-align: right;\n",
              "    }\n",
              "</style>\n",
              "<table border=\"1\" class=\"dataframe\">\n",
              "  <thead>\n",
              "    <tr style=\"text-align: right;\">\n",
              "      <th></th>\n",
              "      <th>text</th>\n",
              "      <th>label</th>\n",
              "    </tr>\n",
              "  </thead>\n",
              "  <tbody>\n",
              "    <tr>\n",
              "      <th>0</th>\n",
              "      <td>Home Room was a great movie if you've ever had...</td>\n",
              "      <td>1</td>\n",
              "    </tr>\n",
              "    <tr>\n",
              "      <th>1</th>\n",
              "      <td>I lived in Tokyo for 7 months. Knowing the rea...</td>\n",
              "      <td>1</td>\n",
              "    </tr>\n",
              "    <tr>\n",
              "      <th>2</th>\n",
              "      <td>'De Grot' is a terrific Dutch thriller, based ...</td>\n",
              "      <td>1</td>\n",
              "    </tr>\n",
              "    <tr>\n",
              "      <th>3</th>\n",
              "      <td>It was hard for me to believe all of the negat...</td>\n",
              "      <td>1</td>\n",
              "    </tr>\n",
              "    <tr>\n",
              "      <th>4</th>\n",
              "      <td>Without \"mental anachronism\", this film which ...</td>\n",
              "      <td>1</td>\n",
              "    </tr>\n",
              "  </tbody>\n",
              "</table>\n",
              "</div>"
            ],
            "text/plain": [
              "                                                text  label\n",
              "0  Home Room was a great movie if you've ever had...      1\n",
              "1  I lived in Tokyo for 7 months. Knowing the rea...      1\n",
              "2  'De Grot' is a terrific Dutch thriller, based ...      1\n",
              "3  It was hard for me to believe all of the negat...      1\n",
              "4  Without \"mental anachronism\", this film which ...      1"
            ]
          },
          "metadata": {
            "tags": []
          }
        },
        {
          "output_type": "display_data",
          "data": {
            "text/html": [
              "<div>\n",
              "<style scoped>\n",
              "    .dataframe tbody tr th:only-of-type {\n",
              "        vertical-align: middle;\n",
              "    }\n",
              "\n",
              "    .dataframe tbody tr th {\n",
              "        vertical-align: top;\n",
              "    }\n",
              "\n",
              "    .dataframe thead th {\n",
              "        text-align: right;\n",
              "    }\n",
              "</style>\n",
              "<table border=\"1\" class=\"dataframe\">\n",
              "  <thead>\n",
              "    <tr style=\"text-align: right;\">\n",
              "      <th></th>\n",
              "      <th>text</th>\n",
              "      <th>label</th>\n",
              "    </tr>\n",
              "  </thead>\n",
              "  <tbody>\n",
              "    <tr>\n",
              "      <th>0</th>\n",
              "      <td>I saw Heaven's Gate on its opening week nearly...</td>\n",
              "      <td>1</td>\n",
              "    </tr>\n",
              "    <tr>\n",
              "      <th>1</th>\n",
              "      <td>I got this as a complete set of 9 episodes on ...</td>\n",
              "      <td>1</td>\n",
              "    </tr>\n",
              "    <tr>\n",
              "      <th>2</th>\n",
              "      <td>Unlike some of the former commentators, I was ...</td>\n",
              "      <td>1</td>\n",
              "    </tr>\n",
              "    <tr>\n",
              "      <th>3</th>\n",
              "      <td>No matter what country your In you have to buy...</td>\n",
              "      <td>1</td>\n",
              "    </tr>\n",
              "    <tr>\n",
              "      <th>4</th>\n",
              "      <td>This is Burt Reynolds'\"Citizen Kane\".Tragicall...</td>\n",
              "      <td>1</td>\n",
              "    </tr>\n",
              "  </tbody>\n",
              "</table>\n",
              "</div>"
            ],
            "text/plain": [
              "                                                text  label\n",
              "0  I saw Heaven's Gate on its opening week nearly...      1\n",
              "1  I got this as a complete set of 9 episodes on ...      1\n",
              "2  Unlike some of the former commentators, I was ...      1\n",
              "3  No matter what country your In you have to buy...      1\n",
              "4  This is Burt Reynolds'\"Citizen Kane\".Tragicall...      1"
            ]
          },
          "metadata": {
            "tags": []
          }
        }
      ]
    },
    {
      "cell_type": "markdown",
      "metadata": {
        "id": "FBZACmWdAoe0"
      },
      "source": [
        "### 1.2 Data preprocessing"
      ]
    },
    {
      "cell_type": "markdown",
      "metadata": {
        "id": "Tv0nAfue1ZwJ"
      },
      "source": [
        "###### Functions"
      ]
    },
    {
      "cell_type": "code",
      "metadata": {
        "id": "IVpu2QPSsNbb",
        "colab": {
          "base_uri": "https://localhost:8080/"
        },
        "outputId": "df5b6767-1782-4734-e0ed-f9aa4ee55005"
      },
      "source": [
        "from nltk import pos_tag, word_tokenize          \n",
        "from nltk.corpus import stopwords\n",
        "from nltk.stem import PorterStemmer, WordNetLemmatizer\n",
        "from nltk.tokenize import RegexpTokenizer\n",
        "import nltk\n",
        "nltk.download('stopwords')\n",
        "nltk.download('wordnet')\n",
        "nltk.download('averaged_perceptron_tagger')"
      ],
      "execution_count": 10,
      "outputs": [
        {
          "output_type": "stream",
          "text": [
            "[nltk_data] Downloading package stopwords to /root/nltk_data...\n",
            "[nltk_data]   Unzipping corpora/stopwords.zip.\n",
            "[nltk_data] Downloading package wordnet to /root/nltk_data...\n",
            "[nltk_data]   Unzipping corpora/wordnet.zip.\n",
            "[nltk_data] Downloading package averaged_perceptron_tagger to\n",
            "[nltk_data]     /root/nltk_data...\n",
            "[nltk_data]   Unzipping taggers/averaged_perceptron_tagger.zip.\n"
          ],
          "name": "stdout"
        },
        {
          "output_type": "execute_result",
          "data": {
            "text/plain": [
              "True"
            ]
          },
          "metadata": {
            "tags": []
          },
          "execution_count": 10
        }
      ]
    },
    {
      "cell_type": "code",
      "metadata": {
        "id": "ww9fWRArA3wg"
      },
      "source": [
        "tokenizer = RegexpTokenizer(r'\\w+')\n",
        "lemmatizer = WordNetLemmatizer()\n",
        "stemmer = PorterStemmer()\n",
        "stop_words = stopwords.words('english')"
      ],
      "execution_count": 11,
      "outputs": []
    },
    {
      "cell_type": "markdown",
      "metadata": {
        "id": "g41RxIqxAPTG"
      },
      "source": [
        "##### Execute Text Preprocessing "
      ]
    },
    {
      "cell_type": "code",
      "metadata": {
        "id": "4xHot4F_aKmn"
      },
      "source": [
        "X_train_news, y_train_news, X_test_news, y_test_news = [],[],[],[]\n",
        "X_train_movies, y_train_movies, X_test_movies, y_test_movies = [], [], [], []\n",
        "\n",
        "# tokenize & lemmatize\n",
        "def lemmatize_text(text):\n",
        "    return [lemmatizer.lemmatize(w) for w in tokenizer.tokenize(text.lower())]\n",
        "\n",
        "X_train_news = news_tr['text'].apply(lemmatize_text)\n",
        "X_test_news = news_te['text'].apply(lemmatize_text)\n",
        "X_train_movies = movies_tr['text'].apply(lemmatize_text)\n",
        "X_test_movies = movies_te['text'].apply(lemmatize_text)\n",
        "\n",
        "#remove stop words\n",
        "stop_words = nltk.corpus.stopwords.words('english')\n",
        "def removeStopwords(words):\n",
        "    word = [i for i in words if i not in stop_words]\n",
        "    return word\n",
        "\n",
        "# X_train_news = X_train_news.apply(lambda i: removeStopwords(i))\n",
        "# X_test_news = X_test_news.apply(lambda i: removeStopwords(i))\n",
        "# X_train_movies = X_train_movies.apply(lambda i: removeStopwords(i))\n",
        "# X_test_movies = X_test_movies.apply(lambda i: removeStopwords(i))"
      ],
      "execution_count": 12,
      "outputs": []
    },
    {
      "cell_type": "code",
      "metadata": {
        "id": "9tP6Yiiii7df"
      },
      "source": [
        "# Put preprocessed data into dataframes \n",
        "# 20news data\n",
        "news_tr['text'] = X_train_news\n",
        "news_te['text'] = X_test_news\n",
        "\n",
        "# IMDB\n",
        "movies_tr['text'] = X_train_movies\n",
        "movies_te['text'] = X_test_movies\n",
        "\n",
        "# Shuffle Both\n",
        "news_train = news_tr.sample(frac=1,random_state=1).reset_index(drop=True)\n",
        "news_test = news_te.sample(frac=1,random_state=1).reset_index(drop=True)\n",
        "movies_train = movies_tr.sample(frac=1,random_state=1).reset_index(drop=True)\n",
        "movies_test = movies_te.sample(frac=1,random_state=1).reset_index(drop=True)"
      ],
      "execution_count": 13,
      "outputs": []
    },
    {
      "cell_type": "code",
      "metadata": {
        "id": "JyQhHRiGmDrw"
      },
      "source": [
        "# preview 5 lines\n",
        "# display(news_train.head())\n",
        "# display(news_test.head())\n",
        "# display(movies_train.head())\n",
        "# display(movies_test.head())\n",
        "# q = news_tr.loc[news_tr['label'] == 7]\n",
        "# display(q.head())\n",
        "# print(news_train.loc[news_train['label'].isin([8])])"
      ],
      "execution_count": 34,
      "outputs": []
    },
    {
      "cell_type": "code",
      "metadata": {
        "id": "gNprVAvrjR15"
      },
      "source": [
        "# Export to CSV\n",
        "news_train.to_csv(r'news_train.csv', index=False)\n",
        "news_test.to_csv(r'news_test.csv',index=False)\n",
        "movies_train.to_csv(r'movies_train.csv',index=False)\n",
        "movies_test.to_csv(r'movies_test.csv',index=False)"
      ],
      "execution_count": 80,
      "outputs": []
    },
    {
      "cell_type": "code",
      "metadata": {
        "colab": {
          "base_uri": "https://localhost:8080/",
          "height": 17
        },
        "id": "-nOrKykrZhCE",
        "outputId": "7bfdfc42-2bc0-40ae-ba33-cc2ca25726b8"
      },
      "source": [
        "# Download CSV files\n",
        "from google.colab import files\n",
        "file_list=['news_train.csv','news_test.csv','movies_train.csv','movies_test.csv']\n",
        "for f in file_list:\n",
        "  files.download(f)"
      ],
      "execution_count": 81,
      "outputs": [
        {
          "output_type": "display_data",
          "data": {
            "application/javascript": [
              "\n",
              "    async function download(id, filename, size) {\n",
              "      if (!google.colab.kernel.accessAllowed) {\n",
              "        return;\n",
              "      }\n",
              "      const div = document.createElement('div');\n",
              "      const label = document.createElement('label');\n",
              "      label.textContent = `Downloading \"${filename}\": `;\n",
              "      div.appendChild(label);\n",
              "      const progress = document.createElement('progress');\n",
              "      progress.max = size;\n",
              "      div.appendChild(progress);\n",
              "      document.body.appendChild(div);\n",
              "\n",
              "      const buffers = [];\n",
              "      let downloaded = 0;\n",
              "\n",
              "      const channel = await google.colab.kernel.comms.open(id);\n",
              "      // Send a message to notify the kernel that we're ready.\n",
              "      channel.send({})\n",
              "\n",
              "      for await (const message of channel.messages) {\n",
              "        // Send a message to notify the kernel that we're ready.\n",
              "        channel.send({})\n",
              "        if (message.buffers) {\n",
              "          for (const buffer of message.buffers) {\n",
              "            buffers.push(buffer);\n",
              "            downloaded += buffer.byteLength;\n",
              "            progress.value = downloaded;\n",
              "          }\n",
              "        }\n",
              "      }\n",
              "      const blob = new Blob(buffers, {type: 'application/binary'});\n",
              "      const a = document.createElement('a');\n",
              "      a.href = window.URL.createObjectURL(blob);\n",
              "      a.download = filename;\n",
              "      div.appendChild(a);\n",
              "      a.click();\n",
              "      div.remove();\n",
              "    }\n",
              "  "
            ],
            "text/plain": [
              "<IPython.core.display.Javascript object>"
            ]
          },
          "metadata": {
            "tags": []
          }
        },
        {
          "output_type": "display_data",
          "data": {
            "application/javascript": [
              "download(\"download_f6327047-98b8-4264-acfa-01c8d9e4e523\", \"news_train.csv\", 19509365)"
            ],
            "text/plain": [
              "<IPython.core.display.Javascript object>"
            ]
          },
          "metadata": {
            "tags": []
          }
        },
        {
          "output_type": "display_data",
          "data": {
            "application/javascript": [
              "\n",
              "    async function download(id, filename, size) {\n",
              "      if (!google.colab.kernel.accessAllowed) {\n",
              "        return;\n",
              "      }\n",
              "      const div = document.createElement('div');\n",
              "      const label = document.createElement('label');\n",
              "      label.textContent = `Downloading \"${filename}\": `;\n",
              "      div.appendChild(label);\n",
              "      const progress = document.createElement('progress');\n",
              "      progress.max = size;\n",
              "      div.appendChild(progress);\n",
              "      document.body.appendChild(div);\n",
              "\n",
              "      const buffers = [];\n",
              "      let downloaded = 0;\n",
              "\n",
              "      const channel = await google.colab.kernel.comms.open(id);\n",
              "      // Send a message to notify the kernel that we're ready.\n",
              "      channel.send({})\n",
              "\n",
              "      for await (const message of channel.messages) {\n",
              "        // Send a message to notify the kernel that we're ready.\n",
              "        channel.send({})\n",
              "        if (message.buffers) {\n",
              "          for (const buffer of message.buffers) {\n",
              "            buffers.push(buffer);\n",
              "            downloaded += buffer.byteLength;\n",
              "            progress.value = downloaded;\n",
              "          }\n",
              "        }\n",
              "      }\n",
              "      const blob = new Blob(buffers, {type: 'application/binary'});\n",
              "      const a = document.createElement('a');\n",
              "      a.href = window.URL.createObjectURL(blob);\n",
              "      a.download = filename;\n",
              "      div.appendChild(a);\n",
              "      a.click();\n",
              "      div.remove();\n",
              "    }\n",
              "  "
            ],
            "text/plain": [
              "<IPython.core.display.Javascript object>"
            ]
          },
          "metadata": {
            "tags": []
          }
        },
        {
          "output_type": "display_data",
          "data": {
            "application/javascript": [
              "download(\"download_0eca4ba2-ee73-4bca-95c8-61133fb71d13\", \"news_test.csv\", 11657319)"
            ],
            "text/plain": [
              "<IPython.core.display.Javascript object>"
            ]
          },
          "metadata": {
            "tags": []
          }
        },
        {
          "output_type": "display_data",
          "data": {
            "application/javascript": [
              "\n",
              "    async function download(id, filename, size) {\n",
              "      if (!google.colab.kernel.accessAllowed) {\n",
              "        return;\n",
              "      }\n",
              "      const div = document.createElement('div');\n",
              "      const label = document.createElement('label');\n",
              "      label.textContent = `Downloading \"${filename}\": `;\n",
              "      div.appendChild(label);\n",
              "      const progress = document.createElement('progress');\n",
              "      progress.max = size;\n",
              "      div.appendChild(progress);\n",
              "      document.body.appendChild(div);\n",
              "\n",
              "      const buffers = [];\n",
              "      let downloaded = 0;\n",
              "\n",
              "      const channel = await google.colab.kernel.comms.open(id);\n",
              "      // Send a message to notify the kernel that we're ready.\n",
              "      channel.send({})\n",
              "\n",
              "      for await (const message of channel.messages) {\n",
              "        // Send a message to notify the kernel that we're ready.\n",
              "        channel.send({})\n",
              "        if (message.buffers) {\n",
              "          for (const buffer of message.buffers) {\n",
              "            buffers.push(buffer);\n",
              "            downloaded += buffer.byteLength;\n",
              "            progress.value = downloaded;\n",
              "          }\n",
              "        }\n",
              "      }\n",
              "      const blob = new Blob(buffers, {type: 'application/binary'});\n",
              "      const a = document.createElement('a');\n",
              "      a.href = window.URL.createObjectURL(blob);\n",
              "      a.download = filename;\n",
              "      div.appendChild(a);\n",
              "      a.click();\n",
              "      div.remove();\n",
              "    }\n",
              "  "
            ],
            "text/plain": [
              "<IPython.core.display.Javascript object>"
            ]
          },
          "metadata": {
            "tags": []
          }
        },
        {
          "output_type": "display_data",
          "data": {
            "application/javascript": [
              "download(\"download_e2a84750-b4e2-4d7c-9450-f0b0af74574f\", \"movies_train.csv\", 49868239)"
            ],
            "text/plain": [
              "<IPython.core.display.Javascript object>"
            ]
          },
          "metadata": {
            "tags": []
          }
        },
        {
          "output_type": "display_data",
          "data": {
            "application/javascript": [
              "\n",
              "    async function download(id, filename, size) {\n",
              "      if (!google.colab.kernel.accessAllowed) {\n",
              "        return;\n",
              "      }\n",
              "      const div = document.createElement('div');\n",
              "      const label = document.createElement('label');\n",
              "      label.textContent = `Downloading \"${filename}\": `;\n",
              "      div.appendChild(label);\n",
              "      const progress = document.createElement('progress');\n",
              "      progress.max = size;\n",
              "      div.appendChild(progress);\n",
              "      document.body.appendChild(div);\n",
              "\n",
              "      const buffers = [];\n",
              "      let downloaded = 0;\n",
              "\n",
              "      const channel = await google.colab.kernel.comms.open(id);\n",
              "      // Send a message to notify the kernel that we're ready.\n",
              "      channel.send({})\n",
              "\n",
              "      for await (const message of channel.messages) {\n",
              "        // Send a message to notify the kernel that we're ready.\n",
              "        channel.send({})\n",
              "        if (message.buffers) {\n",
              "          for (const buffer of message.buffers) {\n",
              "            buffers.push(buffer);\n",
              "            downloaded += buffer.byteLength;\n",
              "            progress.value = downloaded;\n",
              "          }\n",
              "        }\n",
              "      }\n",
              "      const blob = new Blob(buffers, {type: 'application/binary'});\n",
              "      const a = document.createElement('a');\n",
              "      a.href = window.URL.createObjectURL(blob);\n",
              "      a.download = filename;\n",
              "      div.appendChild(a);\n",
              "      a.click();\n",
              "      div.remove();\n",
              "    }\n",
              "  "
            ],
            "text/plain": [
              "<IPython.core.display.Javascript object>"
            ]
          },
          "metadata": {
            "tags": []
          }
        },
        {
          "output_type": "display_data",
          "data": {
            "application/javascript": [
              "download(\"download_077514ad-4444-45c1-aee6-9f1d8fc6343a\", \"movies_test.csv\", 48708974)"
            ],
            "text/plain": [
              "<IPython.core.display.Javascript object>"
            ]
          },
          "metadata": {
            "tags": []
          }
        }
      ]
    },
    {
      "cell_type": "markdown",
      "metadata": {
        "id": "DCNeSmaKTXEr"
      },
      "source": [
        "### 1.3 Statistical Analysis\n",
        " > Performed on processed data"
      ]
    },
    {
      "cell_type": "markdown",
      "metadata": {
        "id": "QbdNsIAE4lwx"
      },
      "source": [
        "Check for positive/negative datapoint distribution"
      ]
    },
    {
      "cell_type": "code",
      "metadata": {
        "id": "W9yVOhMknNz9",
        "colab": {
          "base_uri": "https://localhost:8080/",
          "height": 585
        },
        "outputId": "34720a2a-5253-4ef8-ce2d-e096d433214b"
      },
      "source": [
        "# 20N train\n",
        "ax = sns.countplot(x='label', data=pd.DataFrame(news_train, columns=['label']))\n",
        "ax.set_title(\"True label distribution of 20NewsGroups train set\")\n",
        "ax.set_xticklabels(ax.get_xticklabels(),rotation=45, horizontalalignment='right')\n",
        "for p in ax.patches:\n",
        "  ax.annotate(format(p.get_height()), (p.get_x() + p.get_width() / 2., p.get_height()), ha = 'center', va = 'center', xytext = (0, 10), textcoords = 'offset points')\n",
        "plt.show()\n",
        "\n",
        "# 20N test\n",
        "ax = sns.countplot(x='label', data=pd.DataFrame(news_test, columns=['label']))\n",
        "ax.set_title(\"True label distribution of 20NewsGroups test set\")\n",
        "ax.set_xticklabels(ax.get_xticklabels(),rotation=45, horizontalalignment='right')\n",
        "for p in ax.patches:\n",
        "  ax.annotate(format(p.get_height()), (p.get_x() + p.get_width() / 2., p.get_height()), ha = 'center', va = 'center', xytext = (0, 10), textcoords = 'offset points')\n",
        "plt.show()"
      ],
      "execution_count": 82,
      "outputs": [
        {
          "output_type": "display_data",
          "data": {
            "image/png": "[encoded data removed]",
            "text/plain": [
              "<Figure size 432x288 with 1 Axes>"
            ]
          },
          "metadata": {
            "tags": [],
            "needs_background": "light"
          }
        },
        {
          "output_type": "display_data",
          "data": {
            "image/png": "[encoded data removed]",
            "text/plain": [
              "<Figure size 432x288 with 1 Axes>"
            ]
          },
          "metadata": {
            "tags": [],
            "needs_background": "light"
          }
        }
      ]
    },
    {
      "cell_type": "code",
      "metadata": {
        "id": "BgtyIp0qmKTa",
        "colab": {
          "base_uri": "https://localhost:8080/",
          "height": 577
        },
        "outputId": "b71a43c3-e1e0-4381-eef6-8c93fbc53f0f"
      },
      "source": [
        "# IMDB train\n",
        "ax = sns.countplot(x='label', data=pd.DataFrame(movies_train, columns=['label']), order=[0, 1])\n",
        "ax.set_title(\"True label distribution of IMDB train set\")\n",
        "ax.set_xticklabels(ax.get_xticklabels(),rotation=45, horizontalalignment='right')\n",
        "for p in ax.patches:\n",
        "  ax.annotate(format(p.get_height()), (p.get_x() + p.get_width() / 2., p.get_height()), ha = 'center', va = 'center', xytext = (0, 10), textcoords = 'offset points')\n",
        "plt.show()\n",
        "\n",
        "# IMDB test\n",
        "ax = sns.countplot(x='label', data=pd.DataFrame(movies_test, columns=['label']), order=[0, 1])\n",
        "ax.set_title(\"True label distribution of IMDB test set\")\n",
        "ax.set_xticklabels(ax.get_xticklabels(),rotation=45, horizontalalignment='right')\n",
        "for p in ax.patches:\n",
        "  ax.annotate(format(p.get_height()), (p.get_x() + p.get_width() / 2., p.get_height()), ha = 'center', va = 'center', xytext = (0, 10), textcoords = 'offset points')\n",
        "plt.show()"
      ],
      "execution_count": 83,
      "outputs": [
        {
          "output_type": "display_data",
          "data": {
            "image/png": "[encoded data removed]",
            "text/plain": [
              "<Figure size 432x288 with 1 Axes>"
            ]
          },
          "metadata": {
            "tags": [],
            "needs_background": "light"
          }
        },
        {
          "output_type": "display_data",
          "data": {
            "image/png": "[encoded data removed]",
            "text/plain": [
              "<Figure size 432x288 with 1 Axes>"
            ]
          },
          "metadata": {
            "tags": [],
            "needs_background": "light"
          }
        }
      ]
    },
    {
      "cell_type": "markdown",
      "metadata": {
        "id": "DiEZ6iTcerKQ"
      },
      "source": [
        "### 1.4 Feature Extraction \n",
        "> This step is done offline using .py file"
      ]
    },
    {
      "cell_type": "code",
      "metadata": {
        "id": "bUNmDNHyexIh"
      },
      "source": [
        "# Reduce the text into a set of features \n",
        "from sklearn.feature_extraction.text import CountVectorizer, TfidfVectorizer\n",
        "count_vectorizer = CountVectorizer(stop_words='english')\n",
        "tfidf_vectorizer = TfidfVectorizer(analyzer=lambda x: x, stop_words='english', lowercase=False, min_df=5)"
      ],
      "execution_count": 14,
      "outputs": []
    },
    {
      "cell_type": "code",
      "metadata": {
        "id": "Ywbz9_JveAdy"
      },
      "source": [
        "y_train_news = np.array(news_train['label'])\n",
        "y_test_news = np.array(news_test['label'])\n",
        "y_train_movies = np.array(movies_train['label'])\n",
        "y_test_movies = np.array(movies_test['label'])"
      ],
      "execution_count": 15,
      "outputs": []
    },
    {
      "cell_type": "code",
      "metadata": {
        "id": "CYzyDEVeq4ME"
      },
      "source": [
        "# User can use the vectorizer of choice \n",
        "def vectorizeAndReturn(count_vectorizer):\n",
        "    print(\"entered function\")\n",
        "    print(\"================ 20N ==============\")\n",
        "    X_train_vec_news = count_vectorizer.fit_transform(news_train['text'])\n",
        "    X_test_vec_news = count_vectorizer.transform(news_test['text'])\n",
        "    print(\"vectorized\")\n",
        "    print(\"X_train_vec_news:\\n{}\".format(repr(X_train_vec_news)))\n",
        "\n",
        "    #print some feature names to check if you want\n",
        "    feature_names = count_vectorizer.get_feature_names()\n",
        "    # find maximum value for each of the features over the dataset\n",
        "    max_value = X_train_vec_news.max(axis=0).toarray().ravel()\n",
        "    sorted_by_tfidf = max_value.argsort()\n",
        "    # get feature names\n",
        "    feature_names = np.array(count_vectorizer.get_feature_names())\n",
        "    print(\"Features with lowest count:\\n{}\".format(\n",
        "    feature_names[sorted_by_tfidf[:20]]))\n",
        "    print(\"Features with highest count: \\n{}\".format(\n",
        "    feature_names[sorted_by_tfidf[-20:]]))\n",
        "\n",
        "    param_grid = {'C': [0.001, 0.01, 0.1, 1, 10]}\n",
        "    grid = GridSearchCV(LogisticRegression(), param_grid, cv=5)\n",
        "    grid.fit(X_train_vec_news, y_train_news)\n",
        "    print(\"Best cross-validation score: {:.2f}\".format(grid.best_score_))\n",
        "    print(\"Best parameters: \", grid.best_params_)\n",
        "    \n",
        "    # mglearn.tools.visualize_coefficients(grid.best_estimator_.coef_, feature_names, n_top_features=40)\n",
        "\n",
        "##########################################################################################\n",
        "    print(\"================ IMDB ==============\")\n",
        "    # IMDB convert to numerical features\n",
        "    X_train_vec_movies = count_vectorizer.fit_transform(movies_train['text'])\n",
        "    X_test_vec_movies = count_vectorizer.transform(movies_test['text'])\n",
        "    print(\"vectorized\")\n",
        "    print(\"X_train_vec_movies:\\n{}\".format(repr(X_train_vec_movies)))\n",
        "\n",
        "    #print some feature names to check if you want\n",
        "    feature_names = count_vectorizer.get_feature_names()\n",
        "    # find maximum value for each of the features over the dataset\n",
        "    max_value = X_train_vec_movies.max(axis=0).toarray().ravel()\n",
        "    sorted_by_tfidf = max_value.argsort()\n",
        "    # get feature names\n",
        "    feature_names = np.array(count_vectorizer.get_feature_names())\n",
        "    print(\"Features with lowest count:\\n{}\".format(\n",
        "    feature_names[sorted_by_tfidf[:20]]))\n",
        "    print(\"Features with highest count: \\n{}\".format(\n",
        "    feature_names[sorted_by_tfidf[-20:]]))\n",
        "\n",
        "    param_grid = {'C': [0.001, 0.01, 0.1, 1, 10]}\n",
        "    grid = GridSearchCV(LogisticRegression(), param_grid, cv=5)\n",
        "    grid.fit(X_train_vec_movies, y_train_movies)\n",
        "    print(\"Best cross-validation score: {:.2f}\".format(grid.best_score_))\n",
        "    print(\"Best parameters: \", grid.best_params_)\n",
        "\n",
        "    mglearn.tools.visualize_coefficients(grid.best_estimator_.coef_,feature_names, n_top_features=40)\n",
        "\n",
        "    # .apply(lambda x: np.str_(x))\n",
        "    print(\"finished function\")\n",
        "    return X_train_vec_news,  X_test_vec_news, X_train_vec_movies, X_test_vec_movies"
      ],
      "execution_count": 16,
      "outputs": []
    },
    {
      "cell_type": "code",
      "metadata": {
        "id": "26GQfaForbyG",
        "colab": {
          "base_uri": "https://localhost:8080/",
          "height": 1000
        },
        "outputId": "470143a4-521e-4903-cf30-5363575add01"
      },
      "source": [
        "# Using Tfidf vectoriser \n",
        "from sklearn.model_selection import GridSearchCV\n",
        "X_train_vec_news, X_test_vec_news, X_train_vec_movies, X_test_vec_movies = vectorizeAndReturn(tfidf_vectorizer)"
      ],
      "execution_count": 17,
      "outputs": [
        {
          "output_type": "stream",
          "text": [
            "entered function\n",
            "================ 20N ==============\n",
            "vectorized\n",
            "X_train_vec_news:\n",
            "<11314x16282 sparse matrix of type '<class 'numpy.float64'>'\n",
            "\twith 1013051 stored elements in Compressed Sparse Row format>\n",
            "Features with lowest count:\n",
            "['0qq' '1f9f9f' '9f3w2' 'nwk' '9f0' '9l2' 'z6e' '8om' '4tbxom' 'f9f9f3t'\n",
            " 'mf3t' '9f9f9d' 'm9l3' 'i0mf' '6e1' 'pne' '9f9f9f9' '6ei0l' 'mnuy'\n",
            " 'mbs0tq']\n",
            "Features with highest count: \n",
            "['com' 'bo' 'many' 'wa' 'art' 'deletion' 'and' 'test' 'ditto' 'keywords'\n",
            " 'each' 'narrative' 'david' 'anaheim' 'hello' 'such' 'hi' 'chris' 'huh'\n",
            " 'shipping']\n"
          ],
          "name": "stdout"
        },
        {
          "output_type": "stream",
          "text": [
            "/usr/local/lib/python3.7/dist-packages/sklearn/linear_model/_logistic.py:940: ConvergenceWarning: lbfgs failed to converge (status=1):\n",
            "STOP: TOTAL NO. of ITERATIONS REACHED LIMIT.\n",
            "\n",
            "Increase the number of iterations (max_iter) or scale the data as shown in:\n",
            "    https://scikit-learn.org/stable/modules/preprocessing.html\n",
            "Please also refer to the documentation for alternative solver options:\n",
            "    https://scikit-learn.org/stable/modules/linear_model.html#logistic-regression\n",
            "  extra_warning_msg=_LOGISTIC_SOLVER_CONVERGENCE_MSG)\n",
            "/usr/local/lib/python3.7/dist-packages/sklearn/linear_model/_logistic.py:940: ConvergenceWarning: lbfgs failed to converge (status=1):\n",
            "STOP: TOTAL NO. of ITERATIONS REACHED LIMIT.\n",
            "\n",
            "Increase the number of iterations (max_iter) or scale the data as shown in:\n",
            "    https://scikit-learn.org/stable/modules/preprocessing.html\n",
            "Please also refer to the documentation for alternative solver options:\n",
            "    https://scikit-learn.org/stable/modules/linear_model.html#logistic-regression\n",
            "  extra_warning_msg=_LOGISTIC_SOLVER_CONVERGENCE_MSG)\n",
            "/usr/local/lib/python3.7/dist-packages/sklearn/linear_model/_logistic.py:940: ConvergenceWarning: lbfgs failed to converge (status=1):\n",
            "STOP: TOTAL NO. of ITERATIONS REACHED LIMIT.\n",
            "\n",
            "Increase the number of iterations (max_iter) or scale the data as shown in:\n",
            "    https://scikit-learn.org/stable/modules/preprocessing.html\n",
            "Please also refer to the documentation for alternative solver options:\n",
            "    https://scikit-learn.org/stable/modules/linear_model.html#logistic-regression\n",
            "  extra_warning_msg=_LOGISTIC_SOLVER_CONVERGENCE_MSG)\n",
            "/usr/local/lib/python3.7/dist-packages/sklearn/linear_model/_logistic.py:940: ConvergenceWarning: lbfgs failed to converge (status=1):\n",
            "STOP: TOTAL NO. of ITERATIONS REACHED LIMIT.\n",
            "\n",
            "Increase the number of iterations (max_iter) or scale the data as shown in:\n",
            "    https://scikit-learn.org/stable/modules/preprocessing.html\n",
            "Please also refer to the documentation for alternative solver options:\n",
            "    https://scikit-learn.org/stable/modules/linear_model.html#logistic-regression\n",
            "  extra_warning_msg=_LOGISTIC_SOLVER_CONVERGENCE_MSG)\n",
            "/usr/local/lib/python3.7/dist-packages/sklearn/linear_model/_logistic.py:940: ConvergenceWarning: lbfgs failed to converge (status=1):\n",
            "STOP: TOTAL NO. of ITERATIONS REACHED LIMIT.\n",
            "\n",
            "Increase the number of iterations (max_iter) or scale the data as shown in:\n",
            "    https://scikit-learn.org/stable/modules/preprocessing.html\n",
            "Please also refer to the documentation for alternative solver options:\n",
            "    https://scikit-learn.org/stable/modules/linear_model.html#logistic-regression\n",
            "  extra_warning_msg=_LOGISTIC_SOLVER_CONVERGENCE_MSG)\n",
            "/usr/local/lib/python3.7/dist-packages/sklearn/linear_model/_logistic.py:940: ConvergenceWarning: lbfgs failed to converge (status=1):\n",
            "STOP: TOTAL NO. of ITERATIONS REACHED LIMIT.\n",
            "\n",
            "Increase the number of iterations (max_iter) or scale the data as shown in:\n",
            "    https://scikit-learn.org/stable/modules/preprocessing.html\n",
            "Please also refer to the documentation for alternative solver options:\n",
            "    https://scikit-learn.org/stable/modules/linear_model.html#logistic-regression\n",
            "  extra_warning_msg=_LOGISTIC_SOLVER_CONVERGENCE_MSG)\n"
          ],
          "name": "stderr"
        },
        {
          "output_type": "stream",
          "text": [
            "Best cross-validation score: 0.74\n",
            "Best parameters:  {'C': 10}\n",
            "================ IMDB ==============\n",
            "vectorized\n",
            "X_train_vec_movies:\n",
            "<25000x24363 sparse matrix of type '<class 'numpy.float64'>'\n",
            "\twith 3409189 stored elements in Compressed Sparse Row format>\n",
            "Features with lowest count:\n",
            "['suplexes' 'gauche' 'songwriting' 'oncoming' 'sylvain' 'galadriel'\n",
            " 'cataclysmic' 'mclaughlin' 'emerald' 'gliding' 'pressuring' 'oversee'\n",
            " 'denim' 'inconsiderate' 'thieving' 'delegate' 'booed' 'southampton'\n",
            " 'orientated' 'reverting']\n",
            "Features with highest count: \n",
            "['muppet' 'zatoichi' 'lennon' 'weller' 'dev' 'sasquatch' 'bye' 'columbo'\n",
            " 'darkman' 'woo' 'xica' 'botched' 'casper' 'doodlebops' 'wei' 'steve' '5'\n",
            " 'smallville' 'scanner' 'pokemon']\n"
          ],
          "name": "stdout"
        },
        {
          "output_type": "stream",
          "text": [
            "/usr/local/lib/python3.7/dist-packages/sklearn/linear_model/_logistic.py:940: ConvergenceWarning: lbfgs failed to converge (status=1):\n",
            "STOP: TOTAL NO. of ITERATIONS REACHED LIMIT.\n",
            "\n",
            "Increase the number of iterations (max_iter) or scale the data as shown in:\n",
            "    https://scikit-learn.org/stable/modules/preprocessing.html\n",
            "Please also refer to the documentation for alternative solver options:\n",
            "    https://scikit-learn.org/stable/modules/linear_model.html#logistic-regression\n",
            "  extra_warning_msg=_LOGISTIC_SOLVER_CONVERGENCE_MSG)\n",
            "/usr/local/lib/python3.7/dist-packages/sklearn/linear_model/_logistic.py:940: ConvergenceWarning: lbfgs failed to converge (status=1):\n",
            "STOP: TOTAL NO. of ITERATIONS REACHED LIMIT.\n",
            "\n",
            "Increase the number of iterations (max_iter) or scale the data as shown in:\n",
            "    https://scikit-learn.org/stable/modules/preprocessing.html\n",
            "Please also refer to the documentation for alternative solver options:\n",
            "    https://scikit-learn.org/stable/modules/linear_model.html#logistic-regression\n",
            "  extra_warning_msg=_LOGISTIC_SOLVER_CONVERGENCE_MSG)\n",
            "/usr/local/lib/python3.7/dist-packages/sklearn/linear_model/_logistic.py:940: ConvergenceWarning: lbfgs failed to converge (status=1):\n",
            "STOP: TOTAL NO. of ITERATIONS REACHED LIMIT.\n",
            "\n",
            "Increase the number of iterations (max_iter) or scale the data as shown in:\n",
            "    https://scikit-learn.org/stable/modules/preprocessing.html\n",
            "Please also refer to the documentation for alternative solver options:\n",
            "    https://scikit-learn.org/stable/modules/linear_model.html#logistic-regression\n",
            "  extra_warning_msg=_LOGISTIC_SOLVER_CONVERGENCE_MSG)\n",
            "/usr/local/lib/python3.7/dist-packages/sklearn/linear_model/_logistic.py:940: ConvergenceWarning: lbfgs failed to converge (status=1):\n",
            "STOP: TOTAL NO. of ITERATIONS REACHED LIMIT.\n",
            "\n",
            "Increase the number of iterations (max_iter) or scale the data as shown in:\n",
            "    https://scikit-learn.org/stable/modules/preprocessing.html\n",
            "Please also refer to the documentation for alternative solver options:\n",
            "    https://scikit-learn.org/stable/modules/linear_model.html#logistic-regression\n",
            "  extra_warning_msg=_LOGISTIC_SOLVER_CONVERGENCE_MSG)\n",
            "/usr/local/lib/python3.7/dist-packages/sklearn/linear_model/_logistic.py:940: ConvergenceWarning: lbfgs failed to converge (status=1):\n",
            "STOP: TOTAL NO. of ITERATIONS REACHED LIMIT.\n",
            "\n",
            "Increase the number of iterations (max_iter) or scale the data as shown in:\n",
            "    https://scikit-learn.org/stable/modules/preprocessing.html\n",
            "Please also refer to the documentation for alternative solver options:\n",
            "    https://scikit-learn.org/stable/modules/linear_model.html#logistic-regression\n",
            "  extra_warning_msg=_LOGISTIC_SOLVER_CONVERGENCE_MSG)\n",
            "/usr/local/lib/python3.7/dist-packages/sklearn/linear_model/_logistic.py:940: ConvergenceWarning: lbfgs failed to converge (status=1):\n",
            "STOP: TOTAL NO. of ITERATIONS REACHED LIMIT.\n",
            "\n",
            "Increase the number of iterations (max_iter) or scale the data as shown in:\n",
            "    https://scikit-learn.org/stable/modules/preprocessing.html\n",
            "Please also refer to the documentation for alternative solver options:\n",
            "    https://scikit-learn.org/stable/modules/linear_model.html#logistic-regression\n",
            "  extra_warning_msg=_LOGISTIC_SOLVER_CONVERGENCE_MSG)\n"
          ],
          "name": "stderr"
        },
        {
          "output_type": "stream",
          "text": [
            "Best cross-validation score: 0.89\n",
            "Best parameters:  {'C': 10}\n",
            "finished function\n"
          ],
          "name": "stdout"
        },
        {
          "output_type": "display_data",
          "data": {
            "image/png": "[encoded data removed]",
            "text/plain": [
              "<Figure size 1080x360 with 1 Axes>"
            ]
          },
          "metadata": {
            "tags": [],
            "needs_background": "light"
          }
        }
      ]
    },
    {
      "cell_type": "code",
      "metadata": {
        "colab": {
          "base_uri": "https://localhost:8080/"
        },
        "id": "DkY5-MG7AAor",
        "outputId": "e247a1e9-4509-45f7-9973-b0301f516836"
      },
      "source": [
        "#compute mutual information and select top percentile\n",
        "from sklearn.feature_selection import mutual_info_classif, SelectPercentile\n",
        "\n",
        "# IMDB\n",
        "selector = SelectPercentile(mutual_info_classif, percentile = 30)\n",
        "selector.fit(X_train_vec_movies,y_train_movies)\n",
        "# Reduce X_train to selected features\n",
        "X_train_selected_movies = selector.transform(X_train_vec_movies)\n",
        "X_test_selected_movies = selector.transform(X_test_vec_movies)\n",
        "print(\"X_train_selected:\\n{}\".format(repr(X_train_selected_movies)))\n",
        "\n",
        "# 20N\n",
        "selector = SelectPercentile(mutual_info_classif, percentile = 30)\n",
        "selector.fit(X_train_vec_news,y_train_news)\n",
        "# Reduce X_train to selected features\n",
        "X_train_selected_news= selector.transform(X_train_vec_news)\n",
        "X_test_selected_news= selector.transform(X_test_vec_news)\n",
        "print(\"X_train_selected:\\n{}\".format(repr(X_train_selected_news)))"
      ],
      "execution_count": 18,
      "outputs": [
        {
          "output_type": "stream",
          "text": [
            "X_train_selected:\n",
            "<25000x7308 sparse matrix of type '<class 'numpy.float64'>'\n",
            "\twith 3180231 stored elements in Compressed Sparse Row format>\n",
            "X_train_selected:\n",
            "<11314x4885 sparse matrix of type '<class 'numpy.float64'>'\n",
            "\twith 897139 stored elements in Compressed Sparse Row format>\n"
          ],
          "name": "stdout"
        }
      ]
    },
    {
      "cell_type": "markdown",
      "metadata": {
        "id": "Oij403gPRXu4"
      },
      "source": [
        "## Task 2: Implement Naive Bayes and k-fold cross validation\n",
        "\n",
        "\n",
        "\n"
      ]
    },
    {
      "cell_type": "markdown",
      "metadata": {
        "id": "tAcKbNddsUZb"
      },
      "source": [
        "### 2.1 Naive Bayes"
      ]
    },
    {
      "cell_type": "code",
      "metadata": {
        "id": "_tIAbYvN-4j0"
      },
      "source": [
        "class NB():\n",
        "    def __init__(self, alpha, beta):\n",
        "        # hyperparameters\n",
        "        self.alpha = alpha\n",
        "        self.beta = beta\n",
        "        \n",
        "    def fit(self, X, y):\n",
        "        \n",
        "        self.num_examples = X.shape[0]  # number of training examples\n",
        "        self.vocab_len = X.shape[1]  # vocabulary size\n",
        "        self.num_classes = len(np.bincount(y))  # number of classes\n",
        "        \n",
        "        self.prior = (np.bincount(y) + self.alpha) / (len(y) + self.num_classes)  # prior probability\n",
        "        self.posterior = {c: np.ones(self.vocab_len)*self.beta for c in range(self.num_classes)}  # posterior probability\n",
        "\n",
        "        for i in range(self.num_examples):\n",
        "            self.posterior[y[i]] += X[i]\n",
        "            #np.add(self.posterior[y[i]], X[i], out=self.posterior[y[i]], casting=\"unsafe\")\n",
        "        for c in range(self.num_classes):\n",
        "            self.posterior[c] /= (np.sum(self.posterior[c]) + self.num_classes)\n",
        "        \n",
        "    def predict(self, X):\n",
        "        y_hat = []\n",
        "        \n",
        "        for i in range(X.shape[0]):\n",
        "            x_i = X[i]\n",
        "            scores = []  # for storing log prob for each class\n",
        "            for c in range(self.num_classes):\n",
        "                score = np.log(self.prior[c])\n",
        "                product = self.posterior[c] * x_i\n",
        "                product[product == 0] = 1  # for computation convenience \n",
        "                score += np.sum(np.log(product))  # sum of log probability\n",
        "                scores.append(score)\n",
        "            y_hat.append(np.argmax(scores))  # choose the largest\n",
        "        \n",
        "        return y_hat"
      ],
      "execution_count": 91,
      "outputs": []
    },
    {
      "cell_type": "markdown",
      "metadata": {
        "id": "ZfKEYz-8saAv"
      },
      "source": [
        "### 2.2 K-fold Cross Validation"
      ]
    },
    {
      "cell_type": "code",
      "metadata": {
        "id": "p286Nhrq_KTM"
      },
      "source": [
        "# get k-folds train/validation set\n",
        "def cross_validation_split(data, k_folds):\n",
        "    x_data, y_data = data\n",
        "    cv_data = []\n",
        "    fold = x_data.shape[0] // k_folds  # number of folds\n",
        "\n",
        "    for i in range(k_folds):\n",
        "        x_train = np.vstack((x_data[: i*fold], x_data[(i+1)*fold: ]))  # stack left part and right part vertically\n",
        "        y_train = np.hstack((y_data[: i*fold], y_data[(i+1)*fold: ]))  # stack left part and right part horizontally\n",
        "        x_val = x_data[i*fold: (i+1)*fold]\n",
        "        y_val = y_data[i*fold: (i+1)*fold]\n",
        "        \n",
        "        cv_data.append(((x_train, y_train), (x_val, y_val)))\n",
        "\n",
        "    return cv_data\n",
        "\n",
        "# evaluate accuracy\n",
        "def evaluate_acc(y_pred, y_true):\n",
        "    return sum(y_pred == y_true) / len(y_true)\n",
        "\n",
        "# evaluate average accuracy of k-fold cross validation set\n",
        "def kfoldCV(cv_data, model):\n",
        "    result = 0\n",
        "    for train, val in cv_data:        \n",
        "        x_train, y_train = train\n",
        "        x_val, y_val = val\n",
        "        model.fit(x_train, y_train)\n",
        "        y_hat = model.predict(x_val)\n",
        "        result += evaluate_acc(y_hat, y_val)\n",
        "        # print('===================== finish processing one CV set =====================')\n",
        "    return result / len(cv_data)\n"
      ],
      "execution_count": 20,
      "outputs": []
    },
    {
      "cell_type": "code",
      "metadata": {
        "id": "UF7qAHbzDi8o",
        "colab": {
          "base_uri": "https://localhost:8080/"
        },
        "outputId": "26348b77-40d1-42f8-a814-5649c27347e0"
      },
      "source": [
        "# find hyperparameters of Naive Bayes model for 20 news group dataset\n",
        "# this step is done offline\n",
        "alpha_list =[10,0.0001,0.001,]\n",
        "beta_list = [0.1, 1]\n",
        "\n",
        "best_alpha = None; best_beta = None; best_acc = 0\n",
        "\n",
        "CV_data = cross_validation_split((X_train_selected_news.toarray(), y_train_news), 5)\n",
        "\n",
        "for alpha in alpha_list:\n",
        "    for beta in beta_list:\n",
        "        print(f'alpha: {alpha}, beta: {beta}')\n",
        "        model = NB(alpha, beta)\n",
        "        cur_acc = kfoldCV(CV_data, model)\n",
        "        print(f'current accuracy is {cur_acc}')\n",
        "        if cur_acc > best_acc:\n",
        "            best_alpha = alpha; best_beta = beta; best_acc = cur_acc\n",
        "        del model\n",
        "\n",
        "\n",
        "print(\"The best hyperparameter for news dataset: \")\n",
        "print(\"Alpha = %.5f, Beta = %.5f, Best Accuracy = %.2f\" % (best_alpha, best_beta, best_acc))"
      ],
      "execution_count": 192,
      "outputs": [
        {
          "output_type": "stream",
          "text": [
            "alpha: 10, beta: 0.1\n",
            "current accuracy is 0.6808134394341291\n",
            "alpha: 10, beta: 1\n",
            "current accuracy is 0.592130857648099\n",
            "alpha: 0.0001, beta: 0.1\n",
            "current accuracy is 0.6808134394341291\n",
            "alpha: 0.0001, beta: 1\n",
            "current accuracy is 0.5920424403183023\n",
            "alpha: 0.001, beta: 0.1\n",
            "current accuracy is 0.6808134394341291\n",
            "alpha: 0.001, beta: 1\n",
            "current accuracy is 0.5920424403183023\n",
            "The best hyperparameter for news dataset: \n",
            "Alpha = 10.00000, Beta = 0.10000, Best Accuracy = 0.68\n"
          ],
          "name": "stdout"
        }
      ]
    },
    {
      "cell_type": "markdown",
      "metadata": {
        "id": "RF8rur53DkNF"
      },
      "source": [
        "The best hyperparameter for news dataset (with all features): \n",
        "Alpha = 0.0001, Beta = 0.1, Best Accuracy = 0.74\n",
        "\n",
        "The best hyperparameter for news dataset (with selected features): \n",
        "Alpha = 10, Beta = 0.1, Best Accuracy = 0.68\n"
      ]
    },
    {
      "cell_type": "code",
      "metadata": {
        "id": "J8b0yGIXDpbf",
        "colab": {
          "base_uri": "https://localhost:8080/"
        },
        "outputId": "14460ae7-e947-4108-eb1c-f311e1175383"
      },
      "source": [
        "# find hyperparameters of Naive Bayes model for IMDB movies dataset\n",
        "# this step is done offline\n",
        "alpha_list = [0.001, 0.0001, 0.1, 0.5, 1, 10]\n",
        "beta_list = [1, 0.1]\n",
        "\n",
        "best_alpha = None; best_beta = None; best_acc = 0\n",
        "\n",
        "CV_data = cross_validation_split((X_train_selected_movies.toarray(), y_train_movies), 5)\n",
        "\n",
        "for alpha in alpha_list:\n",
        "    for beta in beta_list:\n",
        "        print(f'alpha: {alpha}, beta: {beta}')\n",
        "        model = NB(alpha, beta)\n",
        "        cur_acc = kfoldCV(CV_data, model)\n",
        "        print(f'current accuracy is {cur_acc}')\n",
        "        if cur_acc > best_acc:\n",
        "            best_alpha = alpha; best_beta = beta; best_acc = cur_acc\n",
        "        del model\n",
        "\n",
        "print(\"The best hyperparameter for movie dataset: \")\n",
        "print(\"Alpha = %.5f, Beta = %.5f, Best Accuracy = %.2f\" % (best_alpha, best_beta, best_acc))"
      ],
      "execution_count": 193,
      "outputs": [
        {
          "output_type": "stream",
          "text": [
            "alpha: 0.001, beta: 1\n",
            "current accuracy is 0.8472799999999999\n",
            "alpha: 0.001, beta: 0.1\n",
            "current accuracy is 0.85204\n",
            "alpha: 0.0001, beta: 1\n",
            "current accuracy is 0.8472799999999999\n",
            "alpha: 0.0001, beta: 0.1\n",
            "current accuracy is 0.85204\n",
            "alpha: 0.1, beta: 1\n",
            "current accuracy is 0.8472799999999999\n",
            "alpha: 0.1, beta: 0.1\n",
            "current accuracy is 0.85204\n",
            "alpha: 0.5, beta: 1\n",
            "current accuracy is 0.8472799999999999\n",
            "alpha: 0.5, beta: 0.1\n",
            "current accuracy is 0.85204\n",
            "alpha: 1, beta: 1\n",
            "current accuracy is 0.8472799999999999\n",
            "alpha: 1, beta: 0.1\n",
            "current accuracy is 0.85204\n",
            "alpha: 10, beta: 1\n",
            "current accuracy is 0.8472799999999999\n",
            "alpha: 10, beta: 0.1\n",
            "current accuracy is 0.85204\n",
            "The best hyperparameter for movie dataset: \n",
            "Alpha = 0.00100, Beta = 0.10000, Best Accuracy = 0.85\n"
          ],
          "name": "stdout"
        }
      ]
    },
    {
      "cell_type": "markdown",
      "metadata": {
        "id": "d92LXl-JDtoy"
      },
      "source": [
        "The best hyperparameter for movie dataset (with all features): \n",
        "Alpha = 0.0001, Beta = 0.1, Best Accuracy = 0.86\n",
        "\n",
        "No processing Alpha = 1, Beta = 1, Best Accuracy = 0.83\n",
        "\n",
        "The best hyperparameter for movie dataset (with selected features): \n",
        "Alpha = 0001, Beta = 0.1, Best Accuracy = 0.85"
      ]
    },
    {
      "cell_type": "markdown",
      "metadata": {
        "id": "CqvijE8IRaAJ"
      },
      "source": [
        "## Task 3: Run experiments\n",
        "> "
      ]
    },
    {
      "cell_type": "markdown",
      "metadata": {
        "id": "cc5wCGkJS7Z9"
      },
      "source": [
        "#### 3.1 Dataset Overview and Define key Functions"
      ]
    },
    {
      "cell_type": "code",
      "metadata": {
        "id": "Envkm5i2h7xF"
      },
      "source": [
        "# Split into train, validation, test sets\n",
        "from sklearn.model_selection import train_test_split\n"
      ],
      "execution_count": null,
      "outputs": []
    },
    {
      "cell_type": "markdown",
      "metadata": {
        "id": "1pwp6anCqSeN"
      },
      "source": [
        "#### Evaluation for NB"
      ]
    },
    {
      "cell_type": "code",
      "metadata": {
        "id": "Lz6udU8Aqa_g",
        "colab": {
          "base_uri": "https://localhost:8080/"
        },
        "outputId": "abd632d8-a055-441f-f5ba-ff60f8be487f"
      },
      "source": [
        "# performance evaluation of Naive Bayes model for 20 news group dataset\n",
        "nb_news = NB(0.0001, 0.1)\n",
        "nb_news.fit(X_train_vec_news.toarray(), y_train_news)\n",
        "y_pred_news = nb_news.predict(X_test_vec_news.toarray())\n",
        "print(\"The accuracy for news dataset: %.3f\" % evaluate_acc(y_pred_news, y_test_news))"
      ],
      "execution_count": 224,
      "outputs": [
        {
          "output_type": "stream",
          "text": [
            "The accuracy for news dataset: 0.66\n"
          ],
          "name": "stdout"
        }
      ]
    },
    {
      "cell_type": "code",
      "metadata": {
        "colab": {
          "base_uri": "https://localhost:8080/"
        },
        "id": "7wrTtlTKZSxA",
        "outputId": "9ab9142c-5d73-4a69-8bc1-3c5e53859fac"
      },
      "source": [
        "print(\"The accuracy for news dataset: %.3f\" % evaluate_acc(y_pred_news, y_test_news))"
      ],
      "execution_count": 219,
      "outputs": [
        {
          "output_type": "stream",
          "text": [
            "The accuracy for news dataset: 0.665\n"
          ],
          "name": "stdout"
        }
      ]
    },
    {
      "cell_type": "markdown",
      "metadata": {
        "id": "2GAgc1OMqiF6"
      },
      "source": [
        "The accuracy for news dataset: 0.66\n"
      ]
    },
    {
      "cell_type": "code",
      "metadata": {
        "id": "1pnV_XmPqdF3",
        "colab": {
          "base_uri": "https://localhost:8080/"
        },
        "outputId": "8625439c-34c6-42c5-a09c-48e62a022af2"
      },
      "source": [
        "# performance evaluation of Naive Bayes model for IMDB movies dataset\n",
        "\n",
        "nb_movies = NB(0.0001, 0.1)\n",
        "nb_movies.fit(X_train_vec_movies.toarray(), y_train_movies)\n",
        "y_pred_movies = nb_movies.predict(X_test_vec_movies.toarray())\n",
        "print(\"The accuracy for movies dataset: %.3f\" % evaluate_acc(y_pred_movies, y_test_movies))"
      ],
      "execution_count": 225,
      "outputs": [
        {
          "output_type": "stream",
          "text": [
            "The accuracy for movies dataset: 0.82\n"
          ],
          "name": "stdout"
        }
      ]
    },
    {
      "cell_type": "code",
      "metadata": {
        "colab": {
          "base_uri": "https://localhost:8080/"
        },
        "id": "IlnORR8EZbqF",
        "outputId": "7427de62-0bb6-4faa-85c6-cbfd77e7c433"
      },
      "source": [
        "from sklearn import metrics\n",
        "print(\"The accuracy for movies dataset: %.3f\" % evaluate_acc(y_pred_movies, y_test_movies))\n",
        "metrics.f1_score(y_test_movies, y_pred_movies, labels=None, pos_label=1, average='binary', sample_weight=None, zero_division='warn')"
      ],
      "execution_count": 234,
      "outputs": [
        {
          "output_type": "stream",
          "text": [
            "The accuracy for movies dataset: 0.821\n"
          ],
          "name": "stdout"
        },
        {
          "output_type": "execute_result",
          "data": {
            "text/plain": [
              "0.8004817342432758"
            ]
          },
          "metadata": {
            "tags": []
          },
          "execution_count": 234
        }
      ]
    },
    {
      "cell_type": "markdown",
      "metadata": {
        "id": "MUlkEB8lqnqK"
      },
      "source": [
        "The accuracy for movies dataset: 0.82"
      ]
    },
    {
      "cell_type": "code",
      "metadata": {
        "colab": {
          "base_uri": "https://localhost:8080/",
          "height": 562
        },
        "id": "PVaLz1iFdl_a",
        "outputId": "74060925-578c-49b6-bd3c-e2274b7adb4d"
      },
      "source": [
        "import matplotlib.pyplot as plt\n",
        "from matplotlib import pyplot\n",
        "# 20N\n",
        "bins = np.linspace(0, 20, 21,dtype=int)\n",
        "fig, ax = plt.subplots()\n",
        "ax.set_xticks(bins + 0.5)\n",
        "ax.set_xticklabels(bins,rotation=90, horizontalalignment='center')\n",
        "_ = ax.hist([y_pred_news, y_test_news], bins, label=['y_pred', 'test_news_labels'])\n",
        "pyplot.legend(loc='upper right')\n",
        "pyplot.title('Prediction Counts by Class on 20 News Groups', fontdict=None, loc='center', pad=None)\n",
        "# IMDB\n",
        "bins = np.linspace(0, 2, 3,dtype=int)\n",
        "fig, ax = plt.subplots()\n",
        "ax.set_xticks(bins + 0.5)\n",
        "ax.set_xticklabels(bins,rotation=90, horizontalalignment='center')\n",
        "_ = ax.hist([y_pred_movies, y_test_movies], bins, label=['y_pred', 'test_movies_labels'])\n",
        "pyplot.legend(loc='upper right')\n",
        "pyplot.title('Prediction Counts by Class on IMDB', fontdict=None, loc='center', pad=None)\n"
      ],
      "execution_count": 228,
      "outputs": [
        {
          "output_type": "execute_result",
          "data": {
            "text/plain": [
              "Text(0.5, 1.0, 'Prediction Counts by Class on IMDB')"
            ]
          },
          "metadata": {
            "tags": []
          },
          "execution_count": 228
        },
        {
          "output_type": "display_data",
          "data": {
            "image/png": "[encoded data removed]",
            "text/plain": [
              "<Figure size 432x288 with 1 Axes>"
            ]
          },
          "metadata": {
            "tags": [],
            "needs_background": "light"
          }
        },
        {
          "output_type": "display_data",
          "data": {
            "image/png": "[encoded data removed]",
            "text/plain": [
              "<Figure size 432x288 with 1 Axes>"
            ]
          },
          "metadata": {
            "tags": [],
            "needs_background": "light"
          }
        }
      ]
    },
    {
      "cell_type": "code",
      "metadata": {
        "colab": {
          "base_uri": "https://localhost:8080/",
          "height": 669
        },
        "id": "nlJQiJddepxi",
        "outputId": "ca3d3296-f8a6-44bf-bd58-150a47fb88a9"
      },
      "source": [
        "x = ['alt.atheism',\n",
        " 'comp.graphics',\n",
        " 'comp.os.ms-windows.misc',\n",
        " 'comp.sys.ibm.pc.hardware',\n",
        " 'comp.sys.mac.hardware',\n",
        " 'comp.windows.x',\n",
        " 'misc.forsale',\n",
        " 'rec.autos',\n",
        " 'rec.motorcycles',\n",
        " 'rec.sport.baseball',\n",
        " 'rec.sport.hockey',\n",
        " 'sci.crypt',\n",
        " 'sci.electronics',\n",
        " 'sci.med',\n",
        " 'sci.space',\n",
        " 'soc.religion.christian',\n",
        " 'talk.politics.guns',\n",
        " 'talk.politics.mideast',\n",
        " 'talk.politics.misc',\n",
        " 'talk.religion.misc']\n",
        "\n",
        "dx = pd.DataFrame(x)\n",
        "display(dx)"
      ],
      "execution_count": 230,
      "outputs": [
        {
          "output_type": "display_data",
          "data": {
            "text/html": [
              "<div>\n",
              "<style scoped>\n",
              "    .dataframe tbody tr th:only-of-type {\n",
              "        vertical-align: middle;\n",
              "    }\n",
              "\n",
              "    .dataframe tbody tr th {\n",
              "        vertical-align: top;\n",
              "    }\n",
              "\n",
              "    .dataframe thead th {\n",
              "        text-align: right;\n",
              "    }\n",
              "</style>\n",
              "<table border=\"1\" class=\"dataframe\">\n",
              "  <thead>\n",
              "    <tr style=\"text-align: right;\">\n",
              "      <th></th>\n",
              "      <th>0</th>\n",
              "    </tr>\n",
              "  </thead>\n",
              "  <tbody>\n",
              "    <tr>\n",
              "      <th>0</th>\n",
              "      <td>alt.atheism</td>\n",
              "    </tr>\n",
              "    <tr>\n",
              "      <th>1</th>\n",
              "      <td>comp.graphics</td>\n",
              "    </tr>\n",
              "    <tr>\n",
              "      <th>2</th>\n",
              "      <td>comp.os.ms-windows.misc</td>\n",
              "    </tr>\n",
              "    <tr>\n",
              "      <th>3</th>\n",
              "      <td>comp.sys.ibm.pc.hardware</td>\n",
              "    </tr>\n",
              "    <tr>\n",
              "      <th>4</th>\n",
              "      <td>comp.sys.mac.hardware</td>\n",
              "    </tr>\n",
              "    <tr>\n",
              "      <th>5</th>\n",
              "      <td>comp.windows.x</td>\n",
              "    </tr>\n",
              "    <tr>\n",
              "      <th>6</th>\n",
              "      <td>misc.forsale</td>\n",
              "    </tr>\n",
              "    <tr>\n",
              "      <th>7</th>\n",
              "      <td>rec.autos</td>\n",
              "    </tr>\n",
              "    <tr>\n",
              "      <th>8</th>\n",
              "      <td>rec.motorcycles</td>\n",
              "    </tr>\n",
              "    <tr>\n",
              "      <th>9</th>\n",
              "      <td>rec.sport.baseball</td>\n",
              "    </tr>\n",
              "    <tr>\n",
              "      <th>10</th>\n",
              "      <td>rec.sport.hockey</td>\n",
              "    </tr>\n",
              "    <tr>\n",
              "      <th>11</th>\n",
              "      <td>sci.crypt</td>\n",
              "    </tr>\n",
              "    <tr>\n",
              "      <th>12</th>\n",
              "      <td>sci.electronics</td>\n",
              "    </tr>\n",
              "    <tr>\n",
              "      <th>13</th>\n",
              "      <td>sci.med</td>\n",
              "    </tr>\n",
              "    <tr>\n",
              "      <th>14</th>\n",
              "      <td>sci.space</td>\n",
              "    </tr>\n",
              "    <tr>\n",
              "      <th>15</th>\n",
              "      <td>soc.religion.christian</td>\n",
              "    </tr>\n",
              "    <tr>\n",
              "      <th>16</th>\n",
              "      <td>talk.politics.guns</td>\n",
              "    </tr>\n",
              "    <tr>\n",
              "      <th>17</th>\n",
              "      <td>talk.politics.mideast</td>\n",
              "    </tr>\n",
              "    <tr>\n",
              "      <th>18</th>\n",
              "      <td>talk.politics.misc</td>\n",
              "    </tr>\n",
              "    <tr>\n",
              "      <th>19</th>\n",
              "      <td>talk.religion.misc</td>\n",
              "    </tr>\n",
              "  </tbody>\n",
              "</table>\n",
              "</div>"
            ],
            "text/plain": [
              "                           0\n",
              "0                alt.atheism\n",
              "1              comp.graphics\n",
              "2    comp.os.ms-windows.misc\n",
              "3   comp.sys.ibm.pc.hardware\n",
              "4      comp.sys.mac.hardware\n",
              "5             comp.windows.x\n",
              "6               misc.forsale\n",
              "7                  rec.autos\n",
              "8            rec.motorcycles\n",
              "9         rec.sport.baseball\n",
              "10          rec.sport.hockey\n",
              "11                 sci.crypt\n",
              "12           sci.electronics\n",
              "13                   sci.med\n",
              "14                 sci.space\n",
              "15    soc.religion.christian\n",
              "16        talk.politics.guns\n",
              "17     talk.politics.mideast\n",
              "18        talk.politics.misc\n",
              "19        talk.religion.misc"
            ]
          },
          "metadata": {
            "tags": []
          }
        }
      ]
    },
    {
      "cell_type": "markdown",
      "metadata": {
        "id": "zOvKlNOyPsuE"
      },
      "source": [
        "On selected features"
      ]
    },
    {
      "cell_type": "code",
      "metadata": {
        "colab": {
          "base_uri": "https://localhost:8080/"
        },
        "id": "u-EbD3CWovlv",
        "outputId": "11b5fa03-fc8b-431d-de10-6779f9143db7"
      },
      "source": [
        "# performance evaluation of Naive Bayes model for 20 news group dataset\n",
        "print(\"X_train_selected:\\n{}\".format(repr(X_train_selected_news)))\n",
        "print(\"X_test_selected:\\n{}\".format(repr(X_test_selected_news)))\n",
        "nb_news = NB(0.001, 0.1)\n",
        "nb_news.fit(X_train_selected_news.toarray(), y_train_news)\n",
        "y_pred_news = nb_news.predict(X_test_selected_news.toarray())\n",
        "\n",
        "print(\"The accuracy for news dataset: %.3f\" % evaluate_acc(y_pred_news, y_test_news))"
      ],
      "execution_count": 221,
      "outputs": [
        {
          "output_type": "stream",
          "text": [
            "X_train_selected:\n",
            "<11314x4885 sparse matrix of type '<class 'numpy.float64'>'\n",
            "\twith 897139 stored elements in Compressed Sparse Row format>\n",
            "X_test_selected:\n",
            "<7532x4885 sparse matrix of type '<class 'numpy.float64'>'\n",
            "\twith 579100 stored elements in Compressed Sparse Row format>\n",
            "The accuracy for news dataset: 0.637\n"
          ],
          "name": "stdout"
        }
      ]
    },
    {
      "cell_type": "code",
      "metadata": {
        "colab": {
          "base_uri": "https://localhost:8080/"
        },
        "id": "Zl3VPDxgqnSN",
        "outputId": "52e51ee1-c5f9-4b84-dde0-967153a367af"
      },
      "source": [
        "# performance evaluation of Naive Bayes model for IMDB\n",
        "print(\"X_train_selected:\\n{}\".format(repr(X_train_selected_movies)))\n",
        "print(\"X_test_selected:\\n{}\".format(repr(X_test_selected_movies)))\n",
        "nb_movies = NB(10, 0.1)\n",
        "nb_movies.fit(X_train_selected_movies.toarray(), y_train_movies)\n",
        "y_pred_movies = nb_movies.predict(X_test_selected_movies.toarray())\n",
        "\n",
        "print(\"The accuracy for news dataset: %.3f\" % evaluate_acc(y_pred_movies, y_test_movies))"
      ],
      "execution_count": 222,
      "outputs": [
        {
          "output_type": "stream",
          "text": [
            "X_train_selected:\n",
            "<25000x7308 sparse matrix of type '<class 'numpy.float64'>'\n",
            "\twith 3180231 stored elements in Compressed Sparse Row format>\n",
            "X_test_selected:\n",
            "<25000x7308 sparse matrix of type '<class 'numpy.float64'>'\n",
            "\twith 3115785 stored elements in Compressed Sparse Row format>\n",
            "The accuracy for news dataset: 0.839\n"
          ],
          "name": "stdout"
        }
      ]
    },
    {
      "cell_type": "code",
      "metadata": {
        "id": "F8Ba6ggYMn_s"
      },
      "source": [
        "# given the entire training set, return the portion of that dataset specified by partition percentage k\n",
        "def getPartition(X, y, k=1):\n",
        "    size = X.shape[0]\n",
        "    indices = [i for i in range(size)]  # shuffle indices\n",
        "    \n",
        "    random.shuffle(indices)\n",
        "    return X[indices[:int(k*size)]], y[indices[:int(k*size)]]"
      ],
      "execution_count": 121,
      "outputs": []
    },
    {
      "cell_type": "code",
      "metadata": {
        "id": "GshHaw4PMqHA"
      },
      "source": [
        "# get the accuracy of both news dataset and movies dataset given the different portion of training set\n",
        "# The model we use is Naive Bayes with the best hyperparameters tuned by cross validation\n",
        "def partitionAndPlot(X_train_vec_news, y_train_news, X_test_vec_news, y_test_news):\n",
        "  partition_list = [0.2, 0.4, 0.6, 0.8, 1]  # all possible partition percentage\n",
        "  acc_list_news = []\n",
        "  acc_list_movies = []\n",
        "\n",
        "  for partition in partition_list:\n",
        "      X_train, y_train = getPartition(X_train_vec_news, y_train_news, partition)\n",
        "      model = NB(0.0001, 0.1)\n",
        "      model.fit(X_train.toarray(), y_train)\n",
        "      y_pred = model.predict(X_test_vec_news.toarray())\n",
        "      acc = evaluate_acc(y_pred, y_test_news)\n",
        "      acc_list_news.append(acc)\n",
        "\n",
        "  # plot Naive Bayes accuracy against different portion of training set on News dataset\n",
        "  x_label = ['20%', '40%', '60%', '80%', '100%']\n",
        "  plt.xticks(partition_list, x_label)\n",
        "  plt.xlabel('partition percentage')\n",
        "  plt.ylabel('accuracy')\n",
        "  plt.title('Accuracy against Partition Percentage on News Dataset')\n",
        "  plt.plot(partition_list, acc_list_news)\n",
        "  plt.show()"
      ],
      "execution_count": 125,
      "outputs": []
    },
    {
      "cell_type": "code",
      "metadata": {
        "colab": {
          "base_uri": "https://localhost:8080/",
          "height": 295
        },
        "id": "X0_g8r5psQvc",
        "outputId": "3a921509-4b6d-412f-dd97-24113aa515ef"
      },
      "source": [
        "partitionAndPlot(X_train_selected_movies, y_train_movies, X_test_selected_movies, y_test_movies)"
      ],
      "execution_count": 126,
      "outputs": [
        {
          "output_type": "display_data",
          "data": {
            "image/png": "[encoded data removed]",
            "text/plain": [
              "<Figure size 432x288 with 1 Axes>"
            ]
          },
          "metadata": {
            "tags": [],
            "needs_background": "light"
          }
        }
      ]
    },
    {
      "cell_type": "code",
      "metadata": {
        "colab": {
          "base_uri": "https://localhost:8080/",
          "height": 295
        },
        "id": "ubwLIuOvtUdW",
        "outputId": "a7183ac8-30e7-43e7-fcc7-252203fb9785"
      },
      "source": [
        "partitionAndPlot(X_train_selected_news, y_train_news, X_test_selected_news, y_test_news)"
      ],
      "execution_count": 127,
      "outputs": [
        {
          "output_type": "display_data",
          "data": {
            "image/png": "[encoded data removed]",
            "text/plain": [
              "<Figure size 432x288 with 1 Axes>"
            ]
          },
          "metadata": {
            "tags": [],
            "needs_background": "light"
          }
        }
      ]
    },
    {
      "cell_type": "code",
      "metadata": {
        "colab": {
          "base_uri": "https://localhost:8080/",
          "height": 573
        },
        "id": "YM0JWf-2U_IQ",
        "outputId": "c3b81380-1f17-42f9-e89c-80cd9f0767e3"
      },
      "source": [
        "partitionAndPlot(X_train_vec_news, y_train_news, X_test_vec_news, y_test_news)\n",
        "partitionAndPlot(X_train_vec_movies, y_train_movies, X_test_vec_movies, y_test_movies)"
      ],
      "execution_count": 216,
      "outputs": [
        {
          "output_type": "display_data",
          "data": {
            "image/png": "[encoded data removed]",
            "text/plain": [
              "<Figure size 432x288 with 1 Axes>"
            ]
          },
          "metadata": {
            "tags": [],
            "needs_background": "light"
          }
        },
        {
          "output_type": "display_data",
          "data": {
            "image/png": "[encoded data removed]",
            "text/plain": [
              "<Figure size 432x288 with 1 Axes>"
            ]
          },
          "metadata": {
            "tags": [],
            "needs_background": "light"
          }
        }
      ]
    },
    {
      "cell_type": "code",
      "metadata": {
        "colab": {
          "base_uri": "https://localhost:8080/"
        },
        "id": "9uDHchOKVXC8",
        "outputId": "0357a364-e92c-4b88-9839-ef7dae953227"
      },
      "source": [
        "print(repr(X_train_vec_news))\n",
        "print(repr(X_train_vec_movies))\n",
        "print(\"Movies\")"
      ],
      "execution_count": 223,
      "outputs": [
        {
          "output_type": "stream",
          "text": [
            "<11314x16282 sparse matrix of type '<class 'numpy.float64'>'\n",
            "\twith 1013051 stored elements in Compressed Sparse Row format>\n",
            "<25000x24363 sparse matrix of type '<class 'numpy.float64'>'\n",
            "\twith 3409189 stored elements in Compressed Sparse Row format>\n",
            "Movies\n"
          ],
          "name": "stdout"
        }
      ]
    },
    {
      "cell_type": "code",
      "metadata": {
        "id": "XW8rQijUM9RS"
      },
      "source": [
        "# plot Naive Bayes accuracy against different portion of training set on News dataset\n",
        "x_label = ['20%', '40%', '60%', '80%', '100%']\n",
        "plt.xticks(partition_list, x_label)\n",
        "plt.xlabel('partition percentage')\n",
        "plt.ylabel('accuracy')\n",
        "plt.title('Accuracy against Partition Percentage on News Dataset')\n",
        "plt.plot(partition_list, acc_list_news)\n",
        "plt.show()"
      ],
      "execution_count": null,
      "outputs": []
    },
    {
      "cell_type": "markdown",
      "metadata": {
        "id": "cv1SttEAuetG"
      },
      "source": [
        "# **5-fold Cross validation & grid search for best C in logistic regression**"
      ]
    },
    {
      "cell_type": "code",
      "metadata": {
        "id": "k4SkoCqqeRft",
        "colab": {
          "base_uri": "https://localhost:8080/"
        },
        "outputId": "87be1906-9cea-4abc-c1f8-5587fb8a29bf"
      },
      "source": [
        "import pandas as pd\r\n",
        "import numpy as np\r\n",
        "import seaborn as sns\r\n",
        "import matplotlib.pyplot as plt\r\n",
        "from numpy.random import permutation\r\n",
        "from IPython.core.debugger import set_trace  \r\n",
        "from sklearn.datasets import fetch_20newsgroups\r\n",
        "import os\r\n",
        "from sklearn.datasets import load_files\r\n",
        "from sklearn.feature_extraction.text import CountVectorizer\r\n",
        "import numpy as np\r\n",
        "import nltk\r\n",
        "import re\r\n",
        "from nltk.corpus import stopwords\r\n",
        "nltk.download('stopwords')\r\n",
        "from nltk.stem.porter import PorterStemmer\r\n",
        "from nltk.stem import WordNetLemmatizer\r\n",
        "from sklearn.feature_extraction.text import TfidfVectorizer\r\n",
        "from sklearn.pipeline import Pipeline\r\n",
        "from sklearn.ensemble import ExtraTreesClassifier\r\n",
        "from sklearn.pipeline import make_pipeline\r\n",
        "from sklearn.model_selection import GridSearchCV\r\n",
        "from sklearn.model_selection import cross_val_score\r\n",
        "from sklearn.linear_model import LogisticRegression\r\n",
        "from sklearn import tree\r\n",
        "from sklearn import svm\r\n",
        "\r\n",
        "import nltk\r\n",
        "nltk.download('wordnet')\r\n",
        "\r\n",
        "# Set the seed for reproducibility (initializes the random number generator)\r\n",
        "np.random.seed(500)"
      ],
      "execution_count": null,
      "outputs": [
        {
          "output_type": "stream",
          "text": [
            "[nltk_data] Downloading package stopwords to /root/nltk_data...\n",
            "[nltk_data]   Unzipping corpora/stopwords.zip.\n",
            "[nltk_data] Downloading package wordnet to /root/nltk_data...\n",
            "[nltk_data]   Unzipping corpora/wordnet.zip.\n"
          ],
          "name": "stdout"
        }
      ]
    },
    {
      "cell_type": "markdown",
      "metadata": {
        "id": "ubgiggubdXMt"
      },
      "source": [
        "### 20 data set (Lorraine's version do not run)"
      ]
    },
    {
      "cell_type": "code",
      "metadata": {
        "id": "GvZZ96lLddEG"
      },
      "source": [
        "twenty_train_text = [elem[0] for elem in twenty_train]\r\n",
        "twenty_train_labels = [elem[1] for elem in twenty_train]"
      ],
      "execution_count": null,
      "outputs": []
    },
    {
      "cell_type": "code",
      "metadata": {
        "id": "dzqcemuBddBE"
      },
      "source": [
        "twenty_test_text = [elem[0] for elem in twenty_test]\r\n",
        "twenty_test_labels = [elem[1] for elem in twenty_test]"
      ],
      "execution_count": null,
      "outputs": []
    },
    {
      "cell_type": "code",
      "metadata": {
        "id": "3-vKPD_pdidV"
      },
      "source": [
        "import re\r\n",
        "\r\n",
        "REPLACE_NO_SPACE = re.compile(\"[.;:!\\'?,\\\"()\\[\\]]\")\r\n",
        "REPLACE_WITH_SPACE = re.compile(\"(<br\\s*/><br\\s*/>)|(\\-)|(\\/)\")\r\n",
        "\r\n",
        "def preprocess_reviews(reviews):\r\n",
        "    reviews = [REPLACE_NO_SPACE.sub(\"\", line.lower()) for line in reviews]\r\n",
        "    reviews = [REPLACE_WITH_SPACE.sub(\" \", line) for line in reviews]\r\n",
        "    \r\n",
        "    return reviews"
      ],
      "execution_count": null,
      "outputs": []
    },
    {
      "cell_type": "code",
      "metadata": {
        "id": "WbSa6g7adiZg",
        "colab": {
          "base_uri": "https://localhost:8080/"
        },
        "outputId": "4c0b0d17-562b-467c-f402-8c201deb48f3"
      },
      "source": [
        "twenty_train_text = preprocess_reviews(twenty_train_text)     #perform general processing\r\n",
        "print(\"type of text_train: {}\".format(type(twenty_train_text)))\r\n",
        "print(\"length of text_train: {}\".format(len(twenty_train_text)))\r\n",
        "print(\"Samples per class (training): {}\".format(np.bincount(twenty_train_labels)))"
      ],
      "execution_count": null,
      "outputs": [
        {
          "output_type": "stream",
          "text": [
            "type of text_train: <class 'list'>\n",
            "length of text_train: 11314\n",
            "Samples per class (training): [480 584 591 590 578 593 585 594 598 597 600 595 591 594 593 599 546 564\n",
            " 465 377]\n"
          ],
          "name": "stdout"
        }
      ]
    },
    {
      "cell_type": "code",
      "metadata": {
        "id": "uk9HYzewdiWX",
        "colab": {
          "base_uri": "https://localhost:8080/"
        },
        "outputId": "a553f2ae-82f2-42b0-a835-cb7a237726da"
      },
      "source": [
        "twenty_train_text[:5] "
      ],
      "execution_count": null,
      "outputs": [
        {
          "output_type": "execute_result",
          "data": {
            "text/plain": [
              "['i was wondering if anyone out there could enlighten me on this car i saw the other day it was a 2 door sports car looked to be from the late 60s  early 70s it was called a bricklin the doors were really small in addition the front bumper was separate from the rest of the body this is all i know if anyone can tellme a model name engine specs years of production where this car is made history or whatever info you have on this funky looking car please e mail',\n",
              " 'a fair number of brave souls who upgraded their si clock oscillator have shared their experiences for this poll please send a brief message detailing your experiences with the procedure top speed attained cpu rated speed add on cards and adapters heat sinks hour of usage per day floppy disk functionality with 800 and 14 m floppies are especially requested i will be summarizing in the next two days so please add to the network knowledge base if you have done the clock upgrade and havent answered this poll thanks',\n",
              " 'well folks my mac plus finally gave up the ghost this weekend after starting life as a 512k way back in 1985 sooo im in the market for a new machine a bit sooner than i intended to be im looking into picking up a powerbook 160 or maybe 180 and have a bunch of questions that hopefully somebody can answer * does anybody know any dirt on when the next round of powerbook introductions are expected id heard the 185c was supposed to make an appearence this summer but havent heard anymore on it   and since i dont have access to macleak i was wondering if anybody out there had more info * has anybody heard rumors about price drops to the powerbook line like the ones the duos just went through recently * whats the impression of the display on the 180 i could probably swing a 180 if i got the 80mb disk rather than the 120 but i dont really have a feel for how much better the display is yea it looks great in the store but is that all wow or is it really that good could i solicit some opinions of people who use the 160 and 180 day to day on if its worth taking the disk size and money hit to get the active display i realize this is a real subjective question but ive only played around with the machines in a computer store breifly and figured the opinions of somebody who actually uses the machine daily might prove helpful * how well does hellcats perform  thanks a bunch in advance for any info   if you could email ill post a summary news reading time is at a premium with finals just around the corner      tom willis \\\\ twillis@ecnpurdueedu \\\\ purdue electrical engineering',\n",
              " 'do you have weiteks address phone number id like to get some information about this chip',\n",
              " 'from article <c5owcbn3p@worldstdcom> by tombaker@worldstdcom tom a baker my understanding is that the expected errors are basically known bugs in the warning system software   things are checked that dont have the right values in yet because they arent set till after launch and suchlike rather than fix the code and possibly introduce new bugs they just tell the crew ok if you see a warning no 213 before liftoff ignore it']"
            ]
          },
          "metadata": {
            "tags": []
          },
          "execution_count": 72
        }
      ]
    },
    {
      "cell_type": "code",
      "metadata": {
        "id": "Cy4owSHXdiR5",
        "colab": {
          "base_uri": "https://localhost:8080/"
        },
        "outputId": "26dd7f58-77cb-4358-cfff-9fd636480139"
      },
      "source": [
        "twenty_test_text = preprocess_reviews(twenty_test_text)     #perform general processing\r\n",
        "print(\"type of text_train: {}\".format(type(twenty_test_text)))\r\n",
        "print(\"length of text_train: {}\".format(len(twenty_test_text)))\r\n",
        "print(\"Samples per class (training): {}\".format(np.bincount(twenty_test_labels)))"
      ],
      "execution_count": null,
      "outputs": [
        {
          "output_type": "stream",
          "text": [
            "type of text_train: <class 'list'>\n",
            "length of text_train: 7532\n",
            "Samples per class (training): [319 389 394 392 385 395 390 396 398 397 399 396 393 396 394 398 364 376\n",
            " 310 251]\n"
          ],
          "name": "stdout"
        }
      ]
    },
    {
      "cell_type": "code",
      "metadata": {
        "id": "K88SFOOydpjt"
      },
      "source": [
        "from sklearn.feature_extraction.text import CountVectorizer\r\n",
        "cv = CountVectorizer(min_df = 5)\r\n",
        "cv.fit(twenty_train_text)\r\n",
        "X = cv.transform(twenty_train_text)\r\n",
        "X_test = cv.transform(twenty_test_text)"
      ],
      "execution_count": null,
      "outputs": []
    },
    {
      "cell_type": "code",
      "metadata": {
        "id": "MBvTF32wdpgM"
      },
      "source": [
        "from sklearn.linear_model import LogisticRegression\r\n",
        "from sklearn.metrics import accuracy_score\r\n",
        "from sklearn.model_selection import train_test_split\r\n",
        "\r\n",
        "def train_lr(percentage, X, labels):\r\n",
        "  # randomly select the passed in percentage of the original dataset\r\n",
        "  X_subset, _, y_subset, _ = train_test_split(\r\n",
        "      X, labels, train_size = percentage, random_state=42, shuffle=True\r\n",
        "  )\r\n",
        " # perform train test split on the subset\r\n",
        "  X_train, X_val, y_train, y_val = train_test_split(\r\n",
        "      X_subset, y_subset, train_size = 0.8, shuffle=False\r\n",
        "  )\r\n",
        "  best_c = 0.01\r\n",
        "  tmp_acc = 0\r\n",
        "\r\n",
        "  # creativity (add experiments for tol hypermeter [1e-5, 1e-4, 1e-3])\r\n",
        "  for c in [0.01, 0.05, 0.25, 0.5, 1, 10]:\r\n",
        "  \r\n",
        "      lr = LogisticRegression(C=c, max_iter=500)\r\n",
        "      lr.fit(X_train, y_train)\r\n",
        "      acc = accuracy_score(y_val, lr.predict(X_val))\r\n",
        "      print (\"Accuracy for C=%s: %s\" % (c, acc))\r\n",
        "      \r\n",
        "      if acc > tmp_acc:\r\n",
        "        best_c = c\r\n",
        "        tmp_acc = acc\r\n",
        "\r\n",
        "  print(f'Best C tol for Logistic Regression is {best_c}')\r\n",
        "\r\n",
        "  return best_c, X_subset, y_subset\r\n",
        "    "
      ],
      "execution_count": 134,
      "outputs": []
    },
    {
      "cell_type": "code",
      "metadata": {
        "id": "vtkm2di9dc2j"
      },
      "source": [
        "def compare_lr_acc(X, train_labels, X_test, test_labels):\r\n",
        "\r\n",
        "  acc_list = []\r\n",
        "  percentage_list = [0.2, 0.4, 0.6, 0.8]\r\n",
        "\r\n",
        "  for tmp_perc in percentage_list:\r\n",
        "    print(f'Current percentage is {tmp_perc}')\r\n",
        "    best_c, X_subset, y_subset = train_lr(tmp_perc, X, train_labels)\r\n",
        "\r\n",
        "    final_model = LogisticRegression(C=best_c, max_iter=500)\r\n",
        "    final_model.fit(X_subset, y_subset)\r\n",
        "    test_acc = accuracy_score(test_labels, final_model.predict(X_test))\r\n",
        "    print (f\"Final Accuracy: {test_acc}\")\r\n",
        "\r\n",
        "    acc_list.append(test_acc)\r\n",
        "\r\n",
        "  plt.plot(percentage_list, acc_list)\r\n",
        "  plt.xlabel('Percentage of the Original Dataset')\r\n",
        "  plt.ylabel('Accuracy')"
      ],
      "execution_count": 136,
      "outputs": []
    },
    {
      "cell_type": "code",
      "metadata": {
        "id": "xQCpOD5jxWws"
      },
      "source": [
        "# get the accuracy of both news dataset and movies dataset given the different portion of training set\n",
        "# The model we use is Naive Bayes with the best hyperparameters tuned by cross validation\n",
        "def partitionAndPlotLr(X_train_vec_news, y_train_news, X_test_vec_news, y_test_news):\n",
        "  partition_list = [0.2, 0.4, 0.6, 0.8, 1]  # all possible partition percentage\n",
        "  acc_list_news = []\n",
        "  acc_list_movies = []\n",
        "\n",
        "  for partition in partition_list:\n",
        "      X_train, y_train = getPartition(X_train_vec_news, y_train_news, partition)\n",
        "\n",
        "      model = LogisticRegression(C=10, max_iter=500)\n",
        "      model.fit(X_train, y_train)\n",
        "      y_pred = model.predict(X_test_vec_news)\n",
        "      acc = evaluate_acc(y_pred, y_test_news)\n",
        "      acc_list_news.append(acc)\n",
        "\n",
        "      # test_acc = accuracy_score(test_labels, final_model.predict(X_test))\n",
        "      \n",
        "\n",
        "      # model = NB(0.0001, 0.1)\n",
        "      # model.fit(X_train.toarray(), y_train)\n",
        "      # y_pred = model.predict(X_test_vec_news.toarray())\n",
        "      # acc = evaluate_acc(y_pred, y_test_news)\n",
        "      # acc_list_news.append(acc)\n",
        "\n",
        "  print (f\"Final Accuracy: {acc_list_news[-1]}\")\n",
        "  # plot Naive Bayes accuracy against different portion of training set on News dataset\n",
        "  x_label = ['20%', '40%', '60%', '80%', '100%']\n",
        "  plt.xticks(partition_list, x_label)\n",
        "  plt.xlabel('partition percentage')\n",
        "  plt.ylabel('accuracy')\n",
        "  plt.title('Accuracy against Partition Percentage on News Dataset')\n",
        "  plt.plot(partition_list, acc_list_news)\n",
        "  plt.show()"
      ],
      "execution_count": 145,
      "outputs": []
    },
    {
      "cell_type": "code",
      "metadata": {
        "colab": {
          "base_uri": "https://localhost:8080/",
          "height": 607
        },
        "id": "fDPx-z3eybUT",
        "outputId": "ceab0461-de98-4fbd-c4f6-9cb2215041aa"
      },
      "source": [
        "partitionAndPlotLr(X_train_selected_news, y_train_news, X_test_selected_news, y_test_news)\n",
        "partitionAndPlotLr(X_train_vec_news, y_train_news, X_test_vec_news, y_test_news)"
      ],
      "execution_count": 146,
      "outputs": [
        {
          "output_type": "stream",
          "text": [
            "Final Accuracy: 0.640201805629315\n"
          ],
          "name": "stdout"
        },
        {
          "output_type": "display_data",
          "data": {
            "image/png": "[encoded data removed]",
            "text/plain": [
              "<Figure size 432x288 with 1 Axes>"
            ]
          },
          "metadata": {
            "tags": [],
            "needs_background": "light"
          }
        },
        {
          "output_type": "stream",
          "text": [
            "Final Accuracy: 0.6737918215613383\n"
          ],
          "name": "stdout"
        },
        {
          "output_type": "display_data",
          "data": {
            "image/png": "[encoded data removed]",
            "text/plain": [
              "<Figure size 432x288 with 1 Axes>"
            ]
          },
          "metadata": {
            "tags": [],
            "needs_background": "light"
          }
        }
      ]
    },
    {
      "cell_type": "code",
      "metadata": {
        "colab": {
          "base_uri": "https://localhost:8080/"
        },
        "id": "fEZCWBS81Fim",
        "outputId": "44a8e112-8cd4-4b3b-abed-7efce4ea1b9d"
      },
      "source": [
        "from collections import Counter\n",
        "\n",
        "label = y_train_movies\n",
        "print(Counter(label).keys()) # equals to list(set(words))\n",
        "print(Counter(label).values()) # counts the elements' frequency\n",
        "\n",
        "label = y_test_movies\n",
        "print(Counter(label).keys()) # equals to list(set(words))\n",
        "Counter(label).values() # counts the elements' frequency"
      ],
      "execution_count": 152,
      "outputs": [
        {
          "output_type": "stream",
          "text": [
            "dict_keys([0, 1])\n",
            "dict_values([12500, 12500])\n",
            "dict_keys([0, 1])\n"
          ],
          "name": "stdout"
        },
        {
          "output_type": "execute_result",
          "data": {
            "text/plain": [
              "dict_values([12500, 12500])"
            ]
          },
          "metadata": {
            "tags": []
          },
          "execution_count": 152
        }
      ]
    },
    {
      "cell_type": "code",
      "metadata": {
        "colab": {
          "base_uri": "https://localhost:8080/",
          "height": 607
        },
        "id": "zCI6kh2gyMZ7",
        "outputId": "8ab8ddac-a4d4-4d8f-c2d1-61db7cca753e"
      },
      "source": [
        "partitionAndPlotLr(X_train_selected_movies, y_train_movies, X_test_selected_movies, y_test_movies)\n",
        "partitionAndPlotLr(X_train_vec_movies, y_train_movies, X_test_vec_movies, y_test_movies)"
      ],
      "execution_count": 147,
      "outputs": [
        {
          "output_type": "stream",
          "text": [
            "Final Accuracy: 0.87952\n"
          ],
          "name": "stdout"
        },
        {
          "output_type": "display_data",
          "data": {
            "image/png": "[encoded data removed]",
            "text/plain": [
              "<Figure size 432x288 with 1 Axes>"
            ]
          },
          "metadata": {
            "tags": [],
            "needs_background": "light"
          }
        },
        {
          "output_type": "stream",
          "text": [
            "Final Accuracy: 0.87976\n"
          ],
          "name": "stdout"
        },
        {
          "output_type": "display_data",
          "data": {
            "image/png": "[encoded data removed]",
            "text/plain": [
              "<Figure size 432x288 with 1 Axes>"
            ]
          },
          "metadata": {
            "tags": [],
            "needs_background": "light"
          }
        }
      ]
    },
    {
      "cell_type": "code",
      "metadata": {
        "colab": {
          "base_uri": "https://localhost:8080/"
        },
        "id": "8bl86Bxq21i6",
        "outputId": "361851e7-cd12-44f8-8839-b84b5052b129"
      },
      "source": [
        "# FINAL NEWS ON 100%\n",
        "model = LogisticRegression(C=10, max_iter=500)\n",
        "model.fit(X_train_vec_news, y_train_news)\n",
        "y_pred_news= model.predict(X_test_vec_news)\n",
        "print(evaluate_acc(y_pred_news, y_test_news))\n",
        "# FINAL IMDB ON 100%\n",
        "model = LogisticRegression(C=10, max_iter=500)\n",
        "model.fit(X_train_vec_movies, y_train_movies)\n",
        "y_pred_movies= model.predict(X_test_vec_movies)\n",
        "print(evaluate_acc(y_pred_movies, y_test_movies))\n",
        "metrics.f1_score(y_test_movies, y_pred_movies, labels=None, pos_label=1, average='binary', sample_weight=None, zero_division='warn')\n"
      ],
      "execution_count": 235,
      "outputs": [
        {
          "output_type": "stream",
          "text": [
            "0.6737918215613383\n",
            "0.8798\n"
          ],
          "name": "stdout"
        },
        {
          "output_type": "execute_result",
          "data": {
            "text/plain": [
              "0.87840407882491"
            ]
          },
          "metadata": {
            "tags": []
          },
          "execution_count": 235
        }
      ]
    },
    {
      "cell_type": "code",
      "metadata": {
        "colab": {
          "base_uri": "https://localhost:8080/",
          "height": 562
        },
        "id": "H9h2xqxx3mDy",
        "outputId": "fb7c93df-f715-4ab6-daae-2400194a82bf"
      },
      "source": [
        "import matplotlib.pyplot as plt\n",
        "from matplotlib import pyplot\n",
        "# 20N\n",
        "bins = np.linspace(0, 20, 21,dtype=int)\n",
        "fig, ax = plt.subplots()\n",
        "ax.set_xticks(bins + 0.5)\n",
        "ax.set_xticklabels(bins,rotation=90, horizontalalignment='center')\n",
        "_ = ax.hist([y_pred_news, y_test_news], bins, label=['y_pred', 'test_news_labels'])\n",
        "pyplot.legend(loc='upper right')\n",
        "pyplot.title('Prediction Counts by Class on 20 News Groups', fontdict=None, loc='center', pad=None)\n",
        "# IMDB\n",
        "bins = np.linspace(0, 2, 3,dtype=int)\n",
        "fig, ax = plt.subplots()\n",
        "ax.set_xticks(bins + 0.5)\n",
        "ax.set_xticklabels(bins,rotation=90, horizontalalignment='center')\n",
        "_ = ax.hist([y_pred_movies, y_test_movies], bins, label=['y_pred', 'test_movies_labels'])\n",
        "pyplot.legend(loc='upper right')\n",
        "pyplot.title('Prediction Counts by Class on IMDB', fontdict=None, loc='center', pad=None)\n"
      ],
      "execution_count": 190,
      "outputs": [
        {
          "output_type": "execute_result",
          "data": {
            "text/plain": [
              "Text(0.5, 1.0, 'Prediction Counts by Class on IMDB')"
            ]
          },
          "metadata": {
            "tags": []
          },
          "execution_count": 190
        },
        {
          "output_type": "display_data",
          "data": {
            "image/png": "[encoded data removed]",
            "text/plain": [
              "<Figure size 432x288 with 1 Axes>"
            ]
          },
          "metadata": {
            "tags": [],
            "needs_background": "light"
          }
        },
        {
          "output_type": "display_data",
          "data": {
            "image/png": "[encoded data removed]",
            "text/plain": [
              "<Figure size 432x288 with 1 Axes>"
            ]
          },
          "metadata": {
            "tags": [],
            "needs_background": "light"
          }
        }
      ]
    },
    {
      "cell_type": "code",
      "metadata": {
        "id": "ahuFhmJ_dwl6"
      },
      "source": [
        " compare_lr_acc(X, twenty_train_labels, X_test, twenty_test_labels)"
      ],
      "execution_count": null,
      "outputs": []
    },
    {
      "cell_type": "code",
      "metadata": {
        "colab": {
          "base_uri": "https://localhost:8080/",
          "height": 891
        },
        "id": "mS6yPFCnuiXQ",
        "outputId": "513c586a-a776-4423-f859-345159d926fc"
      },
      "source": [
        "compare_lr_acc(X_train_selected_news, y_train_news, X_test_selected_news, y_test_news)"
      ],
      "execution_count": 137,
      "outputs": [
        {
          "output_type": "stream",
          "text": [
            "Current percentage is 0.2\n",
            "Accuracy for C=0.01: 0.0684326710816777\n",
            "Accuracy for C=0.05: 0.2781456953642384\n",
            "Accuracy for C=0.25: 0.45474613686534215\n",
            "Accuracy for C=0.5: 0.5099337748344371\n",
            "Accuracy for C=1: 0.5342163355408388\n",
            "Accuracy for C=10: 0.5673289183222958\n",
            "Best C tol for Logistic Regression is 10\n",
            "Final Accuracy: 0.5738183749336165\n",
            "Current percentage is 0.4\n",
            "Accuracy for C=0.01: 0.06077348066298342\n",
            "Accuracy for C=0.05: 0.3580110497237569\n",
            "Accuracy for C=0.25: 0.5756906077348066\n",
            "Accuracy for C=0.5: 0.6044198895027625\n",
            "Accuracy for C=1: 0.6320441988950276\n",
            "Accuracy for C=10: 0.6353591160220995\n",
            "Best C tol for Logistic Regression is 10\n",
            "Final Accuracy: 0.6068773234200744\n",
            "Current percentage is 0.6\n",
            "Accuracy for C=0.01: 0.14432989690721648\n",
            "Accuracy for C=0.05: 0.47790868924889546\n",
            "Accuracy for C=0.25: 0.6244477172312224\n",
            "Accuracy for C=0.5: 0.6399116347569955\n",
            "Accuracy for C=1: 0.6516936671575847\n",
            "Accuracy for C=10: 0.666421207658321\n",
            "Best C tol for Logistic Regression is 10\n",
            "Final Accuracy: 0.6184280403611259\n",
            "Current percentage is 0.8\n",
            "Accuracy for C=0.01: 0.27277747101049143\n",
            "Accuracy for C=0.05: 0.5433462175593595\n",
            "Accuracy for C=0.25: 0.6300386526780785\n",
            "Accuracy for C=0.5: 0.6499171728326891\n",
            "Accuracy for C=1: 0.6631695196024296\n",
            "Accuracy for C=10: 0.6736609607951408\n",
            "Best C tol for Logistic Regression is 10\n",
            "Final Accuracy: 0.6344928305894849\n"
          ],
          "name": "stdout"
        },
        {
          "output_type": "display_data",
          "data": {
            "image/png": "[encoded data removed]",
            "text/plain": [
              "<Figure size 432x288 with 1 Axes>"
            ]
          },
          "metadata": {
            "tags": [],
            "needs_background": "light"
          }
        }
      ]
    },
    {
      "cell_type": "code",
      "metadata": {
        "colab": {
          "base_uri": "https://localhost:8080/",
          "height": 1000
        },
        "id": "k5_ePxTyPXtk",
        "outputId": "42ec8e85-7228-47fb-d1f5-e914eb6591b4"
      },
      "source": [
        "compare_lr_acc(X_train_vec_news, y_train_news, X_test_vec_news, y_test_news)"
      ],
      "execution_count": null,
      "outputs": [
        {
          "output_type": "stream",
          "text": [
            "Current percentage is 0.2\n",
            "entered train_lr function\n",
            "done split 1\n",
            "done split 2\n",
            "Accuracy for C=0.01: 0.04194260485651214\n",
            "Accuracy for C=0.05: 0.2163355408388521\n",
            "Accuracy for C=0.25: 0.4105960264900662\n",
            "Accuracy for C=0.5: 0.5209713024282561\n",
            "Accuracy for C=1: 0.5673289183222958\n",
            "Best C tol for Logistic Regression is 1\n",
            "Final Accuracy: 0.5785979819437068\n",
            "Current percentage is 0.4\n",
            "entered train_lr function\n",
            "done split 1\n",
            "done split 2\n",
            "Accuracy for C=0.01: 0.13480662983425415\n",
            "Accuracy for C=0.05: 0.33259668508287293\n",
            "Accuracy for C=0.25: 0.5447513812154696\n",
            "Accuracy for C=0.5: 0.6099447513812155\n",
            "Accuracy for C=1: 0.6397790055248619\n",
            "Best C tol for Logistic Regression is 1\n",
            "Final Accuracy: 0.6314391927774827\n",
            "Current percentage is 0.6\n",
            "entered train_lr function\n",
            "done split 1\n",
            "done split 2\n",
            "Accuracy for C=0.01: 0.20618556701030927\n",
            "Accuracy for C=0.05: 0.4698085419734904\n",
            "Accuracy for C=0.25: 0.6163475699558174\n",
            "Accuracy for C=0.5: 0.6597938144329897\n",
            "Accuracy for C=1: 0.6767304860088366\n",
            "Best C tol for Logistic Regression is 1\n",
            "Final Accuracy: 0.6467073818374933\n",
            "Current percentage is 0.8\n",
            "entered train_lr function\n",
            "done split 1\n",
            "done split 2\n",
            "Accuracy for C=0.01: 0.3743787962451684\n",
            "Accuracy for C=0.05: 0.548868028713418\n",
            "Accuracy for C=0.25: 0.6454997239094423\n",
            "Accuracy for C=0.5: 0.6720044174489233\n",
            "Accuracy for C=1: 0.6907785753727222\n",
            "Best C tol for Logistic Regression is 1\n",
            "Final Accuracy: 0.6644981412639405\n"
          ],
          "name": "stdout"
        },
        {
          "output_type": "display_data",
          "data": {
            "image/png": "[encoded data removed]",
            "text/plain": [
              "<Figure size 432x288 with 1 Axes>"
            ]
          },
          "metadata": {
            "tags": [],
            "needs_background": "light"
          }
        }
      ]
    },
    {
      "cell_type": "code",
      "metadata": {
        "colab": {
          "base_uri": "https://localhost:8080/"
        },
        "id": "flakwoY7vIzg",
        "outputId": "564becf9-46fb-4004-dfd8-f478723d42a3"
      },
      "source": [
        "compare_lr_acc(X_train_selected_movies, y_train_movies, X_test_selected_movies, y_test_movies)"
      ],
      "execution_count": null,
      "outputs": [
        {
          "output_type": "stream",
          "text": [
            "Current percentage is 0.2\n",
            "Accuracy for C=0.01: 0.0684326710816777\n",
            "Accuracy for C=0.05: 0.2781456953642384\n",
            "Accuracy for C=0.25: 0.45474613686534215\n",
            "Accuracy for C=0.5: 0.5099337748344371\n",
            "Accuracy for C=1: 0.5342163355408388\n",
            "Accuracy for C=10: 0.5673289183222958\n",
            "Best C tol for Logistic Regression is 10\n",
            "Final Accuracy: 0.5738183749336165\n",
            "Current percentage is 0.4\n",
            "Accuracy for C=0.01: 0.06077348066298342\n",
            "Accuracy for C=0.05: 0.3580110497237569\n",
            "Accuracy for C=0.25: 0.5756906077348066\n",
            "Accuracy for C=0.5: 0.6044198895027625\n",
            "Accuracy for C=1: 0.6320441988950276\n",
            "Accuracy for C=10: 0.6353591160220995\n",
            "Best C tol for Logistic Regression is 10\n"
          ],
          "name": "stdout"
        }
      ]
    },
    {
      "cell_type": "code",
      "metadata": {
        "colab": {
          "base_uri": "https://localhost:8080/",
          "height": 1000
        },
        "id": "el1BohR6O2tb",
        "outputId": "992d93b8-9ac7-4383-bc13-639f76b69da7"
      },
      "source": [
        "compare_lr_acc(X_train_vec_movies, y_train_movies, X_test_vec_movies, y_test_movies)"
      ],
      "execution_count": null,
      "outputs": [
        {
          "output_type": "stream",
          "text": [
            "Current percentage is 0.2\n",
            "entered train_lr function\n",
            "done split 1\n",
            "done split 2\n",
            "Accuracy for C=0.01: 0.678\n",
            "Accuracy for C=0.05: 0.763\n",
            "Accuracy for C=0.25: 0.811\n",
            "Accuracy for C=0.5: 0.835\n",
            "Accuracy for C=1: 0.851\n",
            "Best C tol for Logistic Regression is 1\n",
            "Final Accuracy: 0.8582\n",
            "Current percentage is 0.4\n",
            "entered train_lr function\n",
            "done split 1\n",
            "done split 2\n",
            "Accuracy for C=0.01: 0.7625\n",
            "Accuracy for C=0.05: 0.7955\n",
            "Accuracy for C=0.25: 0.8485\n",
            "Accuracy for C=0.5: 0.8635\n",
            "Accuracy for C=1: 0.874\n",
            "Best C tol for Logistic Regression is 1\n",
            "Final Accuracy: 0.87216\n",
            "Current percentage is 0.6\n",
            "entered train_lr function\n",
            "done split 1\n",
            "done split 2\n",
            "Accuracy for C=0.01: 0.779\n",
            "Accuracy for C=0.05: 0.8173333333333334\n",
            "Accuracy for C=0.25: 0.86\n",
            "Accuracy for C=0.5: 0.8723333333333333\n",
            "Accuracy for C=1: 0.8813333333333333\n",
            "Best C tol for Logistic Regression is 1\n",
            "Final Accuracy: 0.87692\n",
            "Current percentage is 0.8\n",
            "entered train_lr function\n",
            "done split 1\n",
            "done split 2\n",
            "Accuracy for C=0.01: 0.78475\n",
            "Accuracy for C=0.05: 0.82525\n",
            "Accuracy for C=0.25: 0.86775\n",
            "Accuracy for C=0.5: 0.8775\n",
            "Accuracy for C=1: 0.8865\n",
            "Best C tol for Logistic Regression is 1\n",
            "Final Accuracy: 0.88172\n"
          ],
          "name": "stdout"
        },
        {
          "output_type": "display_data",
          "data": {
            "image/png": "[encoded data removed]",
            "text/plain": [
              "<Figure size 432x288 with 1 Axes>"
            ]
          },
          "metadata": {
            "tags": [],
            "needs_background": "light"
          }
        }
      ]
    },
    {
      "cell_type": "markdown",
      "metadata": {
        "id": "0mdDh7A2jAf7"
      },
      "source": [
        "**Imdb Dataset**"
      ]
    },
    {
      "cell_type": "code",
      "metadata": {
        "id": "BsNtdFmglLYL"
      },
      "source": [
        "from sklearn.feature_extraction.text import CountVectorizer\r\n",
        "\r\n",
        "cv2 = CountVectorizer(min_df = 1)\r\n",
        "X2 = cv2.fit_transform(movies_train)\r\n",
        "print(movies_train)\r\n",
        "X2 = cv2.transform(movies_train)\r\n",
        "X2_test = cv2.transform(movies_test)"
      ],
      "execution_count": null,
      "outputs": []
    },
    {
      "cell_type": "code",
      "metadata": {
        "id": "autxikgf3kRx"
      },
      "source": [
        "movies_test_labels=movies_test[\"label\"].tolist()\r\n",
        "movies_train_labels=movies_train[\"label\"].tolist()"
      ],
      "execution_count": null,
      "outputs": []
    },
    {
      "cell_type": "code",
      "metadata": {
        "id": "kvegzljkjX71"
      },
      "source": [
        "compare_lr_acc(X2, movies_train_labels, X2_test, movies_test_labels)"
      ],
      "execution_count": null,
      "outputs": []
    },
    {
      "cell_type": "code",
      "metadata": {
        "id": "uSxjGFf5hHox"
      },
      "source": [
        "param_grid = {'C': [0.001, 0.01, 0.1, 1, 10]}\r\n",
        "grid = GridSearchCV(LogisticRegression(), param_grid, cv=5)\r\n",
        "grid.fit(X_train_vec_movies, y_train_movies)\r\n",
        "test_acc = accuracy_score(movies_test_labels, final_model.predict(X2_test))\r\n",
        "print (\"Final Accuracy: \", test_acc)\r\n",
        "print(\"Best parameters: \", grid.best_params_)"
      ],
      "execution_count": null,
      "outputs": []
    },
    {
      "cell_type": "markdown",
      "metadata": {
        "id": "aYMDGksva7fE"
      },
      "source": [
        "### 3.4 Creative Experiment\n"
      ]
    },
    {
      "cell_type": "markdown",
      "metadata": {
        "id": "0vrwFpT_Ct26"
      },
      "source": [
        "#### Random Forest"
      ]
    },
    {
      "cell_type": "code",
      "metadata": {
        "id": "f3sKU3WmB82u"
      },
      "source": [
        "# Feature Scaling\n",
        "from sklearn.preprocessing import StandardScaler\n",
        "\n",
        "sc = StandardScaler()\n",
        "X_train_news_forest = sc.fit_transform(X_train_selected_news.toarray())\n",
        "X_test_news_forest = sc.transform(X_test_selected_news.toarray())\n",
        "\n",
        "X_train_movies_forest = sc.fit_transform(X_train_selected_movies.toarray())\n",
        "X_test_movies_forest = sc.transform(X_test_selected_movies.toarray())"
      ],
      "execution_count": 196,
      "outputs": []
    },
    {
      "cell_type": "code",
      "metadata": {
        "colab": {
          "base_uri": "https://localhost:8080/"
        },
        "id": "t8wMrL1bCsKW",
        "outputId": "95391a96-3e83-4721-84b9-830cfd023749"
      },
      "source": [
        "from sklearn.ensemble import RandomForestRegressor\n",
        "# y_pred = news\n",
        "# y_pred_fr = IMDB\n",
        "regressor = RandomForestRegressor(n_estimators=20, random_state=0)\n",
        "regressor.fit(X_train_news_forest, y_train_news)\n",
        "y_pred = regressor.predict(X_test_news_forest)\n",
        "acc = evaluate_acc(y_pred, y_test_news)\n",
        "print(acc)"
      ],
      "execution_count": 198,
      "outputs": [
        {
          "output_type": "stream",
          "text": [
            "0.007966011683483803\n"
          ],
          "name": "stdout"
        }
      ]
    },
    {
      "cell_type": "code",
      "metadata": {
        "colab": {
          "base_uri": "https://localhost:8080/"
        },
        "id": "LvM9bvvCDukY",
        "outputId": "41ea4b7c-b3d3-4a9f-a929-b1229b918cf4"
      },
      "source": [
        "from sklearn.svm import SVC\n",
        "svclassifier = SVC(kernel='linear')\n",
        "svclassifier.fit(X_train_selected_news, y_train_news)\n",
        "y_pred = svclassifier.predict(X_test_selected_news)\n",
        "acc = evaluate_acc(y_pred, y_test_news)\n",
        "print(acc)"
      ],
      "execution_count": 200,
      "outputs": [
        {
          "output_type": "stream",
          "text": [
            "0.6216144450345193\n"
          ],
          "name": "stdout"
        }
      ]
    },
    {
      "cell_type": "code",
      "metadata": {
        "colab": {
          "base_uri": "https://localhost:8080/"
        },
        "id": "lYSyBL-RG2VH",
        "outputId": "75d85d6f-9601-4e7e-e193-79a2e7babaca"
      },
      "source": [
        "from sklearn.svm import SVC\n",
        "svclassifier = SVC(kernel='rbf')\n",
        "svclassifier.fit(X_train_selected_news, y_train_news)\n",
        "y_pred = svclassifier.predict(X_test_selected_news)\n",
        "acc = evaluate_acc(y_pred, y_test_news)\n",
        "print(acc)"
      ],
      "execution_count": 201,
      "outputs": [
        {
          "output_type": "stream",
          "text": [
            "0.630509824747743\n"
          ],
          "name": "stdout"
        }
      ]
    },
    {
      "cell_type": "code",
      "metadata": {
        "colab": {
          "base_uri": "https://localhost:8080/"
        },
        "id": "iR6bBGOOILhV",
        "outputId": "8dcbf185-ebef-4d47-a411-9591bdd4569d"
      },
      "source": [
        "from sklearn.svm import SVC\n",
        "svclassifier = SVC(kernel='rbf', C=10)\n",
        "svclassifier.fit(X_train_selected_news, y_train_news)\n",
        "y_pred = svclassifier.predict(X_test_selected_news)\n",
        "acc = evaluate_acc(y_pred, y_test_news)\n",
        "print(acc)"
      ],
      "execution_count": 202,
      "outputs": [
        {
          "output_type": "stream",
          "text": [
            "0.6331651619755709\n"
          ],
          "name": "stdout"
        }
      ]
    },
    {
      "cell_type": "code",
      "metadata": {
        "colab": {
          "base_uri": "https://localhost:8080/",
          "height": 215
        },
        "id": "vS5UCsH5OYZa",
        "outputId": "33e8133d-0b34-43e8-821c-90ee9324fd8d"
      },
      "source": [
        "from sklearn.svm import SVC\n",
        "svclassifier = SVC(kernel='rbf', C=10)\n",
        "svclassifier.fit(X_train_selected_movies, y_train_movies)\n",
        "y_pred = svclassifier.predict(X_test_selected_movies)\n",
        "acc = evaluate_acc(y_pred, y_test_movies)\n",
        "print(acc)"
      ],
      "execution_count": 19,
      "outputs": [
        {
          "output_type": "error",
          "ename": "NameError",
          "evalue": "ignored",
          "traceback": [
            "\u001b[0;31m---------------------------------------------------------------------------\u001b[0m",
            "\u001b[0;31mNameError\u001b[0m                                 Traceback (most recent call last)",
            "\u001b[0;32m<ipython-input-19-48a5f30bc6cf>\u001b[0m in \u001b[0;36m<module>\u001b[0;34m()\u001b[0m\n\u001b[1;32m      3\u001b[0m \u001b[0msvclassifier\u001b[0m\u001b[0;34m.\u001b[0m\u001b[0mfit\u001b[0m\u001b[0;34m(\u001b[0m\u001b[0mX_train_selected_movies\u001b[0m\u001b[0;34m,\u001b[0m \u001b[0my_train_movies\u001b[0m\u001b[0;34m)\u001b[0m\u001b[0;34m\u001b[0m\u001b[0;34m\u001b[0m\u001b[0m\n\u001b[1;32m      4\u001b[0m \u001b[0my_pred\u001b[0m \u001b[0;34m=\u001b[0m \u001b[0msvclassifier\u001b[0m\u001b[0;34m.\u001b[0m\u001b[0mpredict\u001b[0m\u001b[0;34m(\u001b[0m\u001b[0mX_test_selected_movies\u001b[0m\u001b[0;34m)\u001b[0m\u001b[0;34m\u001b[0m\u001b[0;34m\u001b[0m\u001b[0m\n\u001b[0;32m----> 5\u001b[0;31m \u001b[0macc\u001b[0m \u001b[0;34m=\u001b[0m \u001b[0mevaluate_acc\u001b[0m\u001b[0;34m(\u001b[0m\u001b[0my_pred\u001b[0m\u001b[0;34m,\u001b[0m \u001b[0my_test_movies\u001b[0m\u001b[0;34m)\u001b[0m\u001b[0;34m\u001b[0m\u001b[0;34m\u001b[0m\u001b[0m\n\u001b[0m\u001b[1;32m      6\u001b[0m \u001b[0mprint\u001b[0m\u001b[0;34m(\u001b[0m\u001b[0macc\u001b[0m\u001b[0;34m)\u001b[0m\u001b[0;34m\u001b[0m\u001b[0;34m\u001b[0m\u001b[0m\n",
            "\u001b[0;31mNameError\u001b[0m: name 'evaluate_acc' is not defined"
          ]
        }
      ]
    },
    {
      "cell_type": "code",
      "metadata": {
        "colab": {
          "base_uri": "https://localhost:8080/"
        },
        "id": "5CUCYP4ubmLj",
        "outputId": "6993118b-d8ee-43b9-ddf8-c486dc28fab0"
      },
      "source": [
        "acc = evaluate_acc(y_pred, y_test_movies)\n",
        "print(acc)"
      ],
      "execution_count": 21,
      "outputs": [
        {
          "output_type": "stream",
          "text": [
            "0.885\n"
          ],
          "name": "stdout"
        }
      ]
    },
    {
      "cell_type": "code",
      "metadata": {
        "id": "zvrK1YB-PR0w"
      },
      "source": [
        "from sklearn.svm import SVC\n",
        "svclassifier = SVC(kernel='linear')\n",
        "svclassifier.fit(X_train_selected_movies, y_train_movies)\n",
        "y_pred = svclassifier.predict(X_test_selected_movies)\n",
        "acc = evaluate_acc(y_pred, y_test_movies)\n",
        "print(acc)"
      ],
      "execution_count": null,
      "outputs": []
    },
    {
      "cell_type": "code",
      "metadata": {
        "colab": {
          "base_uri": "https://localhost:8080/"
        },
        "id": "BpMjs0rUKH61",
        "outputId": "5f45c51c-a792-467d-9400-899ebf636a06"
      },
      "source": [
        "from sklearn.svm import SVC\n",
        "svclassifier = SVC(kernel='rbf', C=20)\n",
        "svclassifier.fit(X_train_selected_news, y_train_news)\n",
        "y_pred = svclassifier.predict(X_test_selected_news)\n",
        "acc = evaluate_acc(y_pred, y_test_news)\n",
        "print(acc)"
      ],
      "execution_count": 204,
      "outputs": [
        {
          "output_type": "stream",
          "text": [
            "0.6326340945300053\n"
          ],
          "name": "stdout"
        }
      ]
    },
    {
      "cell_type": "code",
      "metadata": {
        "colab": {
          "base_uri": "https://localhost:8080/"
        },
        "id": "9GNymNTGIMt-",
        "outputId": "7f62b907-53d1-4195-e6c0-8171c8d6b66d"
      },
      "source": [
        "from sklearn.svm import SVC\n",
        "svclassifier = SVC(kernel='poly')\n",
        "svclassifier.fit(X_train_selected_news, y_train_news)\n",
        "y_pred = svclassifier.predict(X_test_selected_news)\n",
        "acc = evaluate_acc(y_pred, y_test_news)\n",
        "print(acc)"
      ],
      "execution_count": 203,
      "outputs": [
        {
          "output_type": "stream",
          "text": [
            "0.5063728093467871\n"
          ],
          "name": "stdout"
        }
      ]
    },
    {
      "cell_type": "code",
      "metadata": {
        "id": "r9lA6B4DCtMK"
      },
      "source": [
        "# 20N\n",
        "bins = np.linspace(0, 20, 21,dtype=int)\n",
        "fig, ax = plt.subplots()\n",
        "ax.set_xticks(bins + 0.5)\n",
        "ax.set_xticklabels(bins,rotation=90, horizontalalignment='center')\n",
        "_ = ax.hist([y_pred, y_test_news], bins, label=['y_pred', 'test_news_labels'])\n",
        "pyplot.legend(loc='upper right')\n",
        "pyplot.title('Prediction Counts by Class on 20 News Groups', fontdict=None, loc='center', pad=None)\n",
        "# IMDB\n",
        "bins = np.linspace(0, 2, 3,dtype=int)\n",
        "fig, ax = plt.subplots()\n",
        "ax.set_xticks(bins + 0.5)\n",
        "ax.set_xticklabels(bins,rotation=90, horizontalalignment='center')\n",
        "_ = ax.hist([y_pred_movies, y_test_movies], bins, label=['y_pred', 'test_movies_labels'])\n",
        "pyplot.legend(loc='upper right')\n",
        "pyplot.title('Prediction Counts by Class on IMDB', fontdict=None, loc='center', pad=None)\n"
      ],
      "execution_count": null,
      "outputs": []
    }
  ]
}